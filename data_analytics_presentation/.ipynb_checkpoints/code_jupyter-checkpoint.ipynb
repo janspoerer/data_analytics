{
 "cells": [
  {
   "cell_type": "markdown",
   "metadata": {},
   "source": [
    "# Todos:\n",
    "* Use more neurons and more layers\n",
    "* Find hidden info in data\n",
    "* Bagging, voting, boosting, stacking\n",
    "* Feature engineering postal codes\n",
    "* sns boxplot for EDA\n",
    "* Scroll Jupyter presentation\n",
    "* Functions for performance measures\n",
    "* Shapley value\n",
    "* Shap.summary_plot()\n",
    "* More explanation in general (more verbal explanation)!"
   ]
  },
  {
   "cell_type": "markdown",
   "metadata": {
    "slideshow": {
     "slide_type": "slide"
    }
   },
   "source": [
    "## Sample reduction variable, library imports, data import"
   ]
  },
  {
   "cell_type": "markdown",
   "metadata": {
    "slideshow": {
     "slide_type": "subslide"
    }
   },
   "source": [
    "### Sample scaling (downsampling for development purposes)"
   ]
  },
  {
   "cell_type": "code",
   "execution_count": 281,
   "metadata": {
    "slideshow": {
     "slide_type": "fragment"
    }
   },
   "outputs": [],
   "source": [
    "sample_size_ratio_config = 1 # sample_size = 1 means that all data will be used.\n",
    "test_run = 0 # Set to 1 to just check for syntax and run with very small sample"
   ]
  },
  {
   "cell_type": "markdown",
   "metadata": {
    "slideshow": {
     "slide_type": "subslide"
    }
   },
   "source": [
    "### Imports except for model-specific sklearn imports"
   ]
  },
  {
   "cell_type": "code",
   "execution_count": 282,
   "metadata": {
    "slideshow": {
     "slide_type": "fragment"
    }
   },
   "outputs": [],
   "source": [
    "import numpy as np\n",
    "import pandas as pd\n",
    "import sklearn as sk\n",
    "from sklearn.metrics import accuracy_score, confusion_matrix\n",
    "from sklearn.model_selection import train_test_split\n",
    "from sklearn.utils import resample\n",
    "\n",
    "from IPython.display import Image\n",
    "\n",
    "# for plotting charts\n",
    "import seaborn as sns\n",
    "import matplotlib.pyplot as plt\n",
    "sns.set_style('whitegrid')\n",
    "\n",
    "#statistics\n",
    "import statsmodels.api as sm\n",
    "from statsmodels.formula.api import ols\n",
    "import scipy.stats"
   ]
  },
  {
   "cell_type": "markdown",
   "metadata": {
    "slideshow": {
     "slide_type": "subslide"
    }
   },
   "source": [
    "#### Additional libraries"
   ]
  },
  {
   "cell_type": "code",
   "execution_count": 283,
   "metadata": {
    "slideshow": {
     "slide_type": "fragment"
    }
   },
   "outputs": [],
   "source": [
    "import matplotlib.pyplot as plt\n",
    "from tabulate import tabulate\n",
    "from mpl_toolkits.mplot3d import Axes3D"
   ]
  },
  {
   "cell_type": "markdown",
   "metadata": {
    "slideshow": {
     "slide_type": "subslide"
    }
   },
   "source": [
    "#### Data import"
   ]
  },
  {
   "cell_type": "code",
   "execution_count": 284,
   "metadata": {
    "slideshow": {
     "slide_type": "fragment"
    }
   },
   "outputs": [],
   "source": [
    "df = pd.read_csv(\"Intelligent_Couponing.csv\")\n",
    "if test_run == 1:\n",
    "    rows = np.random.choice(df.index.values, 1000)\n",
    "    df = df.ix[rows]\n",
    "if sample_size_ratio_config != 1:\n",
    "    import math\n",
    "    df = df.sample(n=math.floor(sample_size_ratio_config*len(df.count())))\n",
    "number_observations_original = df.customernumber.count()"
   ]
  },
  {
   "cell_type": "markdown",
   "metadata": {
    "slideshow": {
     "slide_type": "slide"
    }
   },
   "source": [
    "## Business problem"
   ]
  },
  {
   "cell_type": "markdown",
   "metadata": {
    "slideshow": {
     "slide_type": "subslide"
    }
   },
   "source": [
    "### Why is the dependent variable important to know?\n",
    "* The dependent variable indicates if a given customer will re-order within 90 days without getting a voucher.\n",
    "* It is relevant because if a customer is likely to re-order within 90 days without getting a voucher, it may not make economic sense to provide him with a voucher.\n",
    "* The voucher is worth 5 EUR."
   ]
  },
  {
   "cell_type": "markdown",
   "metadata": {
    "slideshow": {
     "slide_type": "subslide"
    }
   },
   "source": [
    "### Limitations of the analysis:\n",
    "* To evaluate the imporance of this order (i.e., the contribution margin), one actually needs to be able to approximate the expected contribution margin for the next order.\n",
    "* In addition to the contribution margin of the next order, the change in customer lifetime value is imporant to estimate.\n",
    "* The customer lifetime value in case of providing the customer with a voucher vs. not providing the customer with a voucher is the main concern. \n",
    "* The customer lifetime value could be approximated by the expected past contribution margin and by the purchasing behavior of the customer. \n",
    "* Here, do not directly calculate the customer lifetime value.\n",
    "* We also don't have enough information to calculate the expected contribution margin over the next 90 days."
   ]
  },
  {
   "cell_type": "markdown",
   "metadata": {
    "slideshow": {
     "slide_type": "slide"
    }
   },
   "source": [
    "## EDA"
   ]
  },
  {
   "cell_type": "markdown",
   "metadata": {
    "slideshow": {
     "slide_type": "subslide"
    }
   },
   "source": [
    "Content"
   ]
  },
  {
   "cell_type": "markdown",
   "metadata": {
    "slideshow": {
     "slide_type": "fragment"
    }
   },
   "source": [
    "### Table of Content \n",
    "\n",
    "* Variable Indentification\n",
    "    * How does the data looks like?\n",
    "    * Data type & basic statistics (central tendency and spread for continous; count for categorical)\n",
    "    * How do my variables look like? (predictor & target, continous & categorical, data types)\n",
    "* Uni-variate Analyisis\n",
    "    * Countinous variables - Do we have outliers?\n",
    "    * Categorical variables - What is the share of each category?\n",
    "* Bi-variante Analysis \n",
    "    * Target variable to categorical variables\n",
    "     * Chi square test - Are there any significant associations between the two variables?\n",
    "* Correlation with target variable"
   ]
  },
  {
   "cell_type": "markdown",
   "metadata": {
    "slideshow": {
     "slide_type": "subslide"
    }
   },
   "source": [
    "### Variable Identification\n",
    "How does the data looks like?"
   ]
  },
  {
   "cell_type": "code",
   "execution_count": 285,
   "metadata": {
    "slideshow": {
     "slide_type": "fragment"
    }
   },
   "outputs": [
    {
     "name": "stdout",
     "output_type": "stream",
     "text": [
      "   customernumber        date  salutation  title  domain datecreated  \\\n",
      "0           41191  2008-12-01           0      0       9  2008-12-01   \n",
      "1           38860  2008-12-16           1      0       4  2008-12-16   \n",
      "2           61917  2008-08-19           0      0      12  2008-08-19   \n",
      "3           40647  2008-06-16           1      0       8  2008-06-16   \n",
      "4            1347  2008-08-08           0      0       1  2008-08-08   \n",
      "\n",
      "   newsletter  model  paymenttype  deliverytype    ...     w2 w3  w4 w5  w6  \\\n",
      "0           0      2            2             0    ...      0  0   0  0   0   \n",
      "1           0      1            1             1    ...      0  0   0  0   0   \n",
      "2           0      1            0             0    ...      0  0   0  0   0   \n",
      "3           0      1            0             0    ...      0  0   0  2   0   \n",
      "4           0      1            1             1    ...      2  0   0  0   0   \n",
      "\n",
      "   w7  w8  w9  w10  target90  \n",
      "0   0   0   0    0         0  \n",
      "1   0   0   0    0         0  \n",
      "2   0   0   1    0         0  \n",
      "3   0   0   0    0         0  \n",
      "4   0   0   0    0         0  \n",
      "\n",
      "[5 rows x 38 columns]\n"
     ]
    }
   ],
   "source": [
    "print(df.head())"
   ]
  },
  {
   "cell_type": "markdown",
   "metadata": {
    "slideshow": {
     "slide_type": "subslide"
    }
   },
   "source": [
    "Data Types & Basic Description "
   ]
  },
  {
   "cell_type": "code",
   "execution_count": 286,
   "metadata": {
    "slideshow": {
     "slide_type": "fragment"
    }
   },
   "outputs": [
    {
     "name": "stdout",
     "output_type": "stream",
     "text": [
      "<class 'pandas.core.frame.DataFrame'>\n",
      "RangeIndex: 32428 entries, 0 to 32427\n",
      "Data columns (total 38 columns):\n",
      "customernumber          32428 non-null int64\n",
      "date                    32428 non-null object\n",
      "salutation              32428 non-null int64\n",
      "title                   32428 non-null int64\n",
      "domain                  32428 non-null int64\n",
      "datecreated             32428 non-null object\n",
      "newsletter              32428 non-null int64\n",
      "model                   32428 non-null int64\n",
      "paymenttype             32428 non-null int64\n",
      "deliverytype            32428 non-null int64\n",
      "invoicepostcode         32428 non-null int64\n",
      "delivpostcode           1392 non-null object\n",
      "voucher                 32428 non-null int64\n",
      "advertisingdatacode     6523 non-null object\n",
      "case                    32428 non-null int64\n",
      "numberitems             32428 non-null int64\n",
      "gift                    32428 non-null int64\n",
      "entry                   32428 non-null int64\n",
      "points                  32428 non-null int64\n",
      "shippingcosts           32428 non-null int64\n",
      "deliverydatepromised    32428 non-null object\n",
      "deliverydatereal        32428 non-null object\n",
      "weight                  32428 non-null int64\n",
      "remi                    32428 non-null int64\n",
      "cancel                  32428 non-null int64\n",
      "used                    32428 non-null int64\n",
      "w0                      32428 non-null int64\n",
      "w1                      32428 non-null int64\n",
      "w2                      32428 non-null int64\n",
      "w3                      32428 non-null int64\n",
      "w4                      32428 non-null int64\n",
      "w5                      32428 non-null int64\n",
      "w6                      32428 non-null int64\n",
      "w7                      32428 non-null int64\n",
      "w8                      32428 non-null int64\n",
      "w9                      32428 non-null int64\n",
      "w10                     32428 non-null int64\n",
      "target90                32428 non-null int64\n",
      "dtypes: int64(32), object(6)\n",
      "memory usage: 9.4+ MB\n",
      "None\n",
      "       customernumber    salutation         title        domain    newsletter  \\\n",
      "count    32428.000000  32428.000000  32428.000000  32428.000000  32428.000000   \n",
      "mean     33389.298569      0.541569      0.006969      7.517115      0.169483   \n",
      "std      19148.090449      0.657044      0.083192      3.683945      0.375184   \n",
      "min          1.000000      0.000000      0.000000      0.000000      0.000000   \n",
      "25%      16802.750000      0.000000      0.000000      4.000000      0.000000   \n",
      "50%      33552.500000      0.000000      0.000000      9.000000      0.000000   \n",
      "75%      50034.250000      1.000000      0.000000     11.000000      0.000000   \n",
      "max      66251.000000      2.000000      1.000000     12.000000      1.000000   \n",
      "\n",
      "              model   paymenttype  deliverytype  invoicepostcode  \\\n",
      "count  32428.000000  32428.000000  32428.000000     32428.000000   \n",
      "mean       1.646910      1.000987      0.201955        48.752282   \n",
      "std        0.825981      1.092677      0.401465        24.361425   \n",
      "min        1.000000      0.000000      0.000000         0.000000   \n",
      "25%        1.000000      0.000000      0.000000        30.000000   \n",
      "50%        1.000000      1.000000      0.000000        47.000000   \n",
      "75%        2.000000      2.000000      0.000000        66.000000   \n",
      "max        3.000000      3.000000      1.000000        99.000000   \n",
      "\n",
      "            voucher      ...                 w2            w3            w4  \\\n",
      "count  32428.000000      ...       32428.000000  32428.000000  32428.000000   \n",
      "mean       0.162020      ...           0.276644      0.018903      0.047027   \n",
      "std        0.368475      ...           1.353981      0.253596      0.434265   \n",
      "min        0.000000      ...           0.000000      0.000000      0.000000   \n",
      "25%        0.000000      ...           0.000000      0.000000      0.000000   \n",
      "50%        0.000000      ...           0.000000      0.000000      0.000000   \n",
      "75%        0.000000      ...           0.000000      0.000000      0.000000   \n",
      "max        1.000000      ...          90.000000     15.000000     36.000000   \n",
      "\n",
      "                 w5            w6            w7            w8            w9  \\\n",
      "count  32428.000000  32428.000000  32428.000000  32428.000000  32428.000000   \n",
      "mean       0.180986      0.027908      0.023128      0.000185      0.164981   \n",
      "std        0.561751      0.299862      0.401782      0.013601      0.836705   \n",
      "min        0.000000      0.000000      0.000000      0.000000      0.000000   \n",
      "25%        0.000000      0.000000      0.000000      0.000000      0.000000   \n",
      "50%        0.000000      0.000000      0.000000      0.000000      0.000000   \n",
      "75%        0.000000      0.000000      0.000000      0.000000      0.000000   \n",
      "max       14.000000     27.000000     55.000000      1.000000     48.000000   \n",
      "\n",
      "                w10      target90  \n",
      "count  32428.000000  32428.000000  \n",
      "mean       0.092883      0.186598  \n",
      "std        0.610509      0.389594  \n",
      "min        0.000000      0.000000  \n",
      "25%        0.000000      0.000000  \n",
      "50%        0.000000      0.000000  \n",
      "75%        0.000000      0.000000  \n",
      "max       50.000000      1.000000  \n",
      "\n",
      "[8 rows x 32 columns]\n"
     ]
    }
   ],
   "source": [
    "print(df.info())\n",
    "print(df.describe())"
   ]
  },
  {
   "cell_type": "markdown",
   "metadata": {
    "slideshow": {
     "slide_type": "subslide"
    }
   },
   "source": [
    "### How do the variables looks like?\n",
    "Predictor variables & target variable"
   ]
  },
  {
   "cell_type": "markdown",
   "metadata": {
    "slideshow": {
     "slide_type": "fragment"
    }
   },
   "source": [
    "Target variable = target90\n",
    "\n",
    "Predictor variables (n=31)\n",
    "* To be dropped: customernumber, model, invoicepostcode, gift, points, title, delivpostcode, title, advertisingdatacode, remi, cancel, used\n",
    "* To be transformed: date, datecreated, deliverydatepromised, deliverydatereal\n",
    "* Probably highly correlated to other variables: entry, shippingcosts, deliverytype, numberitems, weight\n",
    "* Others: Voucher, case, newsletter, salutation, domain, paymenttype, product categories (w0 to w10)"
   ]
  },
  {
   "cell_type": "markdown",
   "metadata": {
    "slideshow": {
     "slide_type": "subslide"
    }
   },
   "source": [
    "Data types\n",
    "* Object\n",
    "    * date\n",
    "    * datecreated\n",
    "    * delivpostcode\n",
    "    * advertisingdatacode\n",
    "    * deliverydatepromised\n",
    "    * deliverydatereal\n",
    "* int: The rest variables are int type\n",
    "\n",
    "Variable category\n",
    "* Continuous\n",
    "    * weight\n",
    "    * date, datecreate - might need transformation to create new variable\n",
    "* Categorical: The rest"
   ]
  },
  {
   "cell_type": "markdown",
   "metadata": {
    "slideshow": {
     "slide_type": "subslide"
    }
   },
   "source": [
    "### Uni-variant analysis\n",
    "#### Continuous variables\n",
    "weight"
   ]
  },
  {
   "cell_type": "code",
   "execution_count": 287,
   "metadata": {
    "slideshow": {
     "slide_type": "fragment"
    }
   },
   "outputs": [
    {
     "data": {
      "text/plain": [
       "<matplotlib.axes._subplots.AxesSubplot at 0x7f2297ad1358>"
      ]
     },
     "execution_count": 287,
     "metadata": {},
     "output_type": "execute_result"
    },
    {
     "data": {
      "image/png": "[encoded data removed]",
      "text/plain": [
       "<Figure size 432x288 with 1 Axes>"
      ]
     },
     "metadata": {},
     "output_type": "display_data"
    }
   ],
   "source": [
    "sns.distplot(df['weight'], bins = 30, color = \"blue\")"
   ]
  },
  {
   "cell_type": "markdown",
   "metadata": {
    "slideshow": {
     "slide_type": "fragment"
    }
   },
   "source": [
    "Question: Why do we have weights that equal 0 ?"
   ]
  },
  {
   "cell_type": "markdown",
   "metadata": {
    "slideshow": {
     "slide_type": "subslide"
    }
   },
   "source": [
    "No.of items"
   ]
  },
  {
   "cell_type": "code",
   "execution_count": 288,
   "metadata": {
    "slideshow": {
     "slide_type": "fragment"
    }
   },
   "outputs": [
    {
     "data": {
      "text/plain": [
       "<matplotlib.axes._subplots.AxesSubplot at 0x7f2297a5cf98>"
      ]
     },
     "execution_count": 288,
     "metadata": {},
     "output_type": "execute_result"
    },
    {
     "data": {
      "image/png": "[encoded data removed]",
      "text/plain": [
       "<Figure size 432x288 with 1 Axes>"
      ]
     },
     "metadata": {},
     "output_type": "display_data"
    }
   ],
   "source": [
    "sns.distplot(df['numberitems'], bins = 30, color = \"purple\")"
   ]
  },
  {
   "cell_type": "markdown",
   "metadata": {
    "slideshow": {
     "slide_type": "subslide"
    }
   },
   "source": [
    "### Categorical Data - understand the distribution of each category\n",
    "Data which has more than one category - count"
   ]
  },
  {
   "cell_type": "code",
   "execution_count": 289,
   "metadata": {
    "slideshow": {
     "slide_type": "subslide"
    }
   },
   "outputs": [
    {
     "data": {
      "image/png": "[encoded data removed]",
      "text/plain": [
       "<Figure size 432x288 with 1 Axes>"
      ]
     },
     "metadata": {},
     "output_type": "display_data"
    }
   ],
   "source": [
    "df = df.sort_values(by=['salutation'])\n",
    "df['salutation'].value_counts().plot(kind = 'bar')\n",
    "plt.title('salutation')\n",
    "plt.show()\n",
    "# 0 mean Ms. 1 means Mr. and 2 means company - More female shopper in our dataset"
   ]
  },
  {
   "cell_type": "code",
   "execution_count": 290,
   "metadata": {
    "slideshow": {
     "slide_type": "subslide"
    }
   },
   "outputs": [
    {
     "data": {
      "image/png": "[encoded data removed]",
      "text/plain": [
       "<Figure size 432x288 with 1 Axes>"
      ]
     },
     "metadata": {},
     "output_type": "display_data"
    }
   ],
   "source": [
    "df = df.sort_values(by=['paymenttype'])\n",
    "df['paymenttype'].value_counts().plot(kind = 'bar')\n",
    "plt.title('paymenttype')\n",
    "plt.show()\n",
    "\n",
    "#0 - payment on invoice, 1- cash payment, 2 -transfer from current account, 3 - transfer from credit card\n",
    "# most made payment on invoice"
   ]
  },
  {
   "cell_type": "code",
   "execution_count": 291,
   "metadata": {
    "slideshow": {
     "slide_type": "subslide"
    }
   },
   "outputs": [
    {
     "data": {
      "image/png": "[encoded data removed]",
      "text/plain": [
       "<Figure size 432x288 with 1 Axes>"
      ]
     },
     "metadata": {},
     "output_type": "display_data"
    }
   ],
   "source": [
    "df = df.sort_values(by=['case'])\n",
    "df['case'].value_counts().plot(kind = 'bar')\n",
    "plt.title('case')\n",
    "plt.show()\n",
    "\n",
    "# value of goods,ranking from low to high, with 1 to be the lowest and 5 to be the highest"
   ]
  },
  {
   "cell_type": "code",
   "execution_count": 292,
   "metadata": {
    "slideshow": {
     "slide_type": "subslide"
    }
   },
   "outputs": [
    {
     "data": {
      "image/png": "[encoded data removed]",
      "text/plain": [
       "<Figure size 432x288 with 1 Axes>"
      ]
     },
     "metadata": {},
     "output_type": "display_data"
    }
   ],
   "source": [
    "df = df.sort_values(by=['domain'])\n",
    "df['domain'].value_counts().plot(kind = 'bar')\n",
    "plt.title('domain')\n",
    "plt.show()\n",
    "\n",
    "# assumption: the domain of the user might indicates how sophisticated they are\n",
    "# 9 - web.de domain  3 - gmail domain"
   ]
  },
  {
   "cell_type": "markdown",
   "metadata": {
    "slideshow": {
     "slide_type": "subslide"
    }
   },
   "source": [
    "Data which has either yes or no entry"
   ]
  },
  {
   "cell_type": "code",
   "execution_count": 293,
   "metadata": {
    "slideshow": {
     "slide_type": "fragment"
    }
   },
   "outputs": [
    {
     "data": {
      "image/png": "[encoded data removed]",
      "text/plain": [
       "<Figure size 432x288 with 1 Axes>"
      ]
     },
     "metadata": {},
     "output_type": "display_data"
    }
   ],
   "source": [
    "df = df.sort_values(by=['newsletter'])\n",
    "df['newsletter'].value_counts().plot(kind = 'bar')\n",
    "plt.title('newsletter')\n",
    "plt.show()\n",
    "\n",
    "# 0 no subscribtion, 1 - subscribtion"
   ]
  },
  {
   "cell_type": "code",
   "execution_count": 294,
   "metadata": {
    "slideshow": {
     "slide_type": "subslide"
    }
   },
   "outputs": [
    {
     "data": {
      "image/png": "[encoded data removed]",
      "text/plain": [
       "<Figure size 432x288 with 1 Axes>"
      ]
     },
     "metadata": {},
     "output_type": "display_data"
    }
   ],
   "source": [
    "df = df.sort_values(by=['deliverytype'])\n",
    "df['deliverytype'].value_counts().plot(kind = 'bar')\n",
    "plt.title('deliverytype')\n",
    "plt.show()\n",
    "\n",
    "# 0 -dispatch, 1 collection"
   ]
  },
  {
   "cell_type": "code",
   "execution_count": 295,
   "metadata": {
    "slideshow": {
     "slide_type": "subslide"
    }
   },
   "outputs": [
    {
     "data": {
      "image/png": "[encoded data removed]",
      "text/plain": [
       "<Figure size 432x288 with 1 Axes>"
      ]
     },
     "metadata": {},
     "output_type": "display_data"
    }
   ],
   "source": [
    "df = df.sort_values(by=['voucher'])\n",
    "df['voucher'].value_counts().plot(kind = 'bar')\n",
    "plt.title('voucher')\n",
    "plt.show()\n",
    "\n",
    "# 0 - no voucher has been cashed , 1 -yes"
   ]
  },
  {
   "cell_type": "code",
   "execution_count": 296,
   "metadata": {
    "slideshow": {
     "slide_type": "subslide"
    }
   },
   "outputs": [
    {
     "data": {
      "image/png": "[encoded data removed]",
      "text/plain": [
       "<Figure size 432x288 with 1 Axes>"
      ]
     },
     "metadata": {},
     "output_type": "display_data"
    }
   ],
   "source": [
    "df = df.sort_values(by=['entry'])\n",
    "df['entry'].value_counts().plot(kind = 'bar')\n",
    "plt.title('entry')\n",
    "plt.show()\n",
    "\n",
    "# 0 - no entry in the shop, 1 -entry in the shop"
   ]
  },
  {
   "cell_type": "code",
   "execution_count": 297,
   "metadata": {
    "slideshow": {
     "slide_type": "subslide"
    }
   },
   "outputs": [
    {
     "data": {
      "image/png": "[encoded data removed]",
      "text/plain": [
       "<Figure size 432x288 with 1 Axes>"
      ]
     },
     "metadata": {},
     "output_type": "display_data"
    }
   ],
   "source": [
    "df = df.sort_values(by=['shippingcosts'])\n",
    "df['shippingcosts'].value_counts().plot(kind = 'bar')\n",
    "plt.title('shippingcosts')\n",
    "plt.show()\n",
    "\n",
    "# 0 - no shipping cost incurred, yes - with shipping cost\n",
    "# why: might due to our e-books, films or some discouts of shipping cost if we have large amount"
   ]
  },
  {
   "cell_type": "markdown",
   "metadata": {
    "slideshow": {
     "slide_type": "subslide"
    }
   },
   "source": [
    "### Bi-Variant Analysis\n",
    "Target 90 against other Catgorical Variables\n",
    "Chi-squred to test aossiciation(if knowing A will help you to predict B)"
   ]
  },
  {
   "cell_type": "code",
   "execution_count": 298,
   "metadata": {
    "slideshow": {
     "slide_type": "subslide"
    }
   },
   "outputs": [],
   "source": [
    "# Target90 against salutation (female, male or company)\n",
    "df_group1 = df.groupby(['target90','salutation'])['target90'].count().unstack('target90').fillna(99)"
   ]
  },
  {
   "cell_type": "code",
   "execution_count": 299,
   "metadata": {
    "slideshow": {
     "slide_type": "subslide"
    }
   },
   "outputs": [
    {
     "data": {
      "text/plain": [
       "<matplotlib.axes._subplots.AxesSubplot at 0x7f229016d550>"
      ]
     },
     "execution_count": 299,
     "metadata": {},
     "output_type": "execute_result"
    },
    {
     "data": {
      "image/png": "[encoded data removed]",
      "text/plain": [
       "<Figure size 720x720 with 1 Axes>"
      ]
     },
     "metadata": {},
     "output_type": "display_data"
    }
   ],
   "source": [
    "df_group1.plot(kind='bar', figsize=(10,10), stacked = True )"
   ]
  },
  {
   "cell_type": "code",
   "execution_count": 300,
   "metadata": {
    "slideshow": {
     "slide_type": "subslide"
    }
   },
   "outputs": [
    {
     "data": {
      "text/html": [
       "<div>\n",
       "<style scoped>\n",
       "    .dataframe tbody tr th:only-of-type {\n",
       "        vertical-align: middle;\n",
       "    }\n",
       "\n",
       "    .dataframe tbody tr th {\n",
       "        vertical-align: top;\n",
       "    }\n",
       "\n",
       "    .dataframe thead th {\n",
       "        text-align: right;\n",
       "    }\n",
       "</style>\n",
       "<table border=\"1\" class=\"dataframe\">\n",
       "  <thead>\n",
       "    <tr style=\"text-align: right;\">\n",
       "      <th>target90</th>\n",
       "      <th>0</th>\n",
       "      <th>1</th>\n",
       "    </tr>\n",
       "    <tr>\n",
       "      <th>salutation</th>\n",
       "      <th></th>\n",
       "      <th></th>\n",
       "    </tr>\n",
       "  </thead>\n",
       "  <tbody>\n",
       "    <tr>\n",
       "      <th>0</th>\n",
       "      <td>14391</td>\n",
       "      <td>3449</td>\n",
       "    </tr>\n",
       "    <tr>\n",
       "      <th>1</th>\n",
       "      <td>9454</td>\n",
       "      <td>2160</td>\n",
       "    </tr>\n",
       "    <tr>\n",
       "      <th>2</th>\n",
       "      <td>2532</td>\n",
       "      <td>442</td>\n",
       "    </tr>\n",
       "  </tbody>\n",
       "</table>\n",
       "</div>"
      ],
      "text/plain": [
       "target90        0     1\n",
       "salutation             \n",
       "0           14391  3449\n",
       "1            9454  2160\n",
       "2            2532   442"
      ]
     },
     "execution_count": 300,
     "metadata": {},
     "output_type": "execute_result"
    }
   ],
   "source": [
    "df_group1"
   ]
  },
  {
   "cell_type": "markdown",
   "metadata": {
    "slideshow": {
     "slide_type": "subslide"
    }
   },
   "source": [
    "* null-hypothesis: they are indenpent\n",
    "* chi-square test for the independance between target90 and gender\n",
    "* results shows that they are dependent"
   ]
  },
  {
   "cell_type": "code",
   "execution_count": 301,
   "metadata": {
    "slideshow": {
     "slide_type": "fragment"
    }
   },
   "outputs": [
    {
     "data": {
      "text/plain": [
       "(33.61449988992723,\n",
       " 5.020004343733141e-08,\n",
       " 2,\n",
       " array([[14511.09164919,  3328.90835081],\n",
       "        [ 9446.85080794,  2167.14919206],\n",
       "        [ 2419.05754286,   554.94245714]]))"
      ]
     },
     "execution_count": 301,
     "metadata": {},
     "output_type": "execute_result"
    }
   ],
   "source": [
    "scipy.stats.chi2_contingency(df_group1)"
   ]
  },
  {
   "cell_type": "code",
   "execution_count": 302,
   "metadata": {
    "slideshow": {
     "slide_type": "subslide"
    }
   },
   "outputs": [],
   "source": [
    "# Target90 against newsletter\n",
    "df_group1 = df.groupby(['target90','newsletter'])['target90'].count().unstack('target90').fillna(99)"
   ]
  },
  {
   "cell_type": "code",
   "execution_count": 303,
   "metadata": {
    "slideshow": {
     "slide_type": "subslide"
    }
   },
   "outputs": [
    {
     "data": {
      "text/plain": [
       "<matplotlib.axes._subplots.AxesSubplot at 0x7f229004b438>"
      ]
     },
     "execution_count": 303,
     "metadata": {},
     "output_type": "execute_result"
    },
    {
     "data": {
      "image/png": "[encoded data removed]",
      "text/plain": [
       "<Figure size 720x720 with 1 Axes>"
      ]
     },
     "metadata": {},
     "output_type": "display_data"
    }
   ],
   "source": [
    "df_group1.plot(kind='bar', figsize=(10,10), stacked = True )"
   ]
  },
  {
   "cell_type": "code",
   "execution_count": 304,
   "metadata": {
    "slideshow": {
     "slide_type": "subslide"
    }
   },
   "outputs": [
    {
     "data": {
      "text/html": [
       "<div>\n",
       "<style scoped>\n",
       "    .dataframe tbody tr th:only-of-type {\n",
       "        vertical-align: middle;\n",
       "    }\n",
       "\n",
       "    .dataframe tbody tr th {\n",
       "        vertical-align: top;\n",
       "    }\n",
       "\n",
       "    .dataframe thead th {\n",
       "        text-align: right;\n",
       "    }\n",
       "</style>\n",
       "<table border=\"1\" class=\"dataframe\">\n",
       "  <thead>\n",
       "    <tr style=\"text-align: right;\">\n",
       "      <th>target90</th>\n",
       "      <th>0</th>\n",
       "      <th>1</th>\n",
       "    </tr>\n",
       "    <tr>\n",
       "      <th>newsletter</th>\n",
       "      <th></th>\n",
       "      <th></th>\n",
       "    </tr>\n",
       "  </thead>\n",
       "  <tbody>\n",
       "    <tr>\n",
       "      <th>0</th>\n",
       "      <td>22300</td>\n",
       "      <td>4632</td>\n",
       "    </tr>\n",
       "    <tr>\n",
       "      <th>1</th>\n",
       "      <td>4077</td>\n",
       "      <td>1419</td>\n",
       "    </tr>\n",
       "  </tbody>\n",
       "</table>\n",
       "</div>"
      ],
      "text/plain": [
       "target90        0     1\n",
       "newsletter             \n",
       "0           22300  4632\n",
       "1            4077  1419"
      ]
     },
     "execution_count": 304,
     "metadata": {},
     "output_type": "execute_result"
    }
   ],
   "source": [
    "df_group1"
   ]
  },
  {
   "cell_type": "markdown",
   "metadata": {
    "slideshow": {
     "slide_type": "subslide"
    }
   },
   "source": [
    "chi-square test for the independance between target90 and gender\n",
    "result: dependent"
   ]
  },
  {
   "cell_type": "code",
   "execution_count": 305,
   "metadata": {
    "slideshow": {
     "slide_type": "fragment"
    }
   },
   "outputs": [
    {
     "data": {
      "text/plain": [
       "(222.88637220493683,\n",
       " 2.1223178094999486e-50,\n",
       " 1,\n",
       " array([[21906.54261749,  5025.45738251],\n",
       "        [ 4470.45738251,  1025.54261749]]))"
      ]
     },
     "execution_count": 305,
     "metadata": {},
     "output_type": "execute_result"
    }
   ],
   "source": [
    "scipy.stats.chi2_contingency(df_group1)"
   ]
  },
  {
   "cell_type": "markdown",
   "metadata": {
    "slideshow": {
     "slide_type": "subslide"
    }
   },
   "source": [
    "Target90 against domain (assumption: domain may be an indicator that if you are a sophisticated user)"
   ]
  },
  {
   "cell_type": "code",
   "execution_count": 306,
   "metadata": {
    "slideshow": {
     "slide_type": "fragment"
    }
   },
   "outputs": [],
   "source": [
    "df_group1 = df.groupby(['target90','domain'])['target90'].count().unstack('target90').fillna(99)"
   ]
  },
  {
   "cell_type": "code",
   "execution_count": 307,
   "metadata": {
    "slideshow": {
     "slide_type": "subslide"
    }
   },
   "outputs": [
    {
     "data": {
      "text/plain": [
       "<function matplotlib.pyplot.legend(*args, **kwargs)>"
      ]
     },
     "execution_count": 307,
     "metadata": {},
     "output_type": "execute_result"
    },
    {
     "data": {
      "image/png": "[encoded data removed]",
      "text/plain": [
       "<Figure size 720x720 with 1 Axes>"
      ]
     },
     "metadata": {},
     "output_type": "display_data"
    }
   ],
   "source": [
    "df_group1.plot(kind='bar', figsize=(10,10), stacked = True )\n",
    "plt.legend\n",
    "# result: not dependent - drop this column "
   ]
  },
  {
   "cell_type": "code",
   "execution_count": 308,
   "metadata": {
    "slideshow": {
     "slide_type": "subslide"
    }
   },
   "outputs": [
    {
     "data": {
      "text/plain": [
       "(17.01459045793761,\n",
       " 0.14904928951059448,\n",
       " 12,\n",
       " array([[ 954.12054397,  218.87945603],\n",
       "        [ 926.46487603,  212.53512397],\n",
       "        [ 972.82878993,  223.17121007],\n",
       "        [ 309.90616134,   71.09383866],\n",
       "        [5390.41504256, 1236.58495744],\n",
       "        [1066.37001974,  244.62998026],\n",
       "        [ 445.74429505,  102.25570495],\n",
       "        [  91.9144258 ,   21.0855742 ],\n",
       "        [3004.70698162,  689.29301838],\n",
       "        [5655.58409399, 1297.41590601],\n",
       "        [ 111.43607376,   25.56392624],\n",
       "        [1156.65764154,  265.34235846],\n",
       "        [6290.85105464, 1443.14894536]]))"
      ]
     },
     "execution_count": 308,
     "metadata": {},
     "output_type": "execute_result"
    }
   ],
   "source": [
    "scipy.stats.chi2_contingency(df_group1)"
   ]
  },
  {
   "cell_type": "code",
   "execution_count": 309,
   "metadata": {
    "slideshow": {
     "slide_type": "subslide"
    }
   },
   "outputs": [],
   "source": [
    "# Target90 against payment type\n",
    "df_group1 = df.groupby(['target90','paymenttype'])['target90'].count().unstack('target90').fillna(99)"
   ]
  },
  {
   "cell_type": "code",
   "execution_count": 310,
   "metadata": {
    "slideshow": {
     "slide_type": "subslide"
    }
   },
   "outputs": [
    {
     "data": {
      "text/plain": [
       "<matplotlib.axes._subplots.AxesSubplot at 0x7f2283f5bf98>"
      ]
     },
     "execution_count": 310,
     "metadata": {},
     "output_type": "execute_result"
    },
    {
     "data": {
      "image/png": "[encoded data removed]",
      "text/plain": [
       "<Figure size 720x720 with 1 Axes>"
      ]
     },
     "metadata": {},
     "output_type": "display_data"
    }
   ],
   "source": [
    "df_group1.plot(kind='bar', figsize=(10,10), stacked = True )"
   ]
  },
  {
   "cell_type": "code",
   "execution_count": 311,
   "metadata": {
    "slideshow": {
     "slide_type": "subslide"
    }
   },
   "outputs": [
    {
     "data": {
      "text/html": [
       "<div>\n",
       "<style scoped>\n",
       "    .dataframe tbody tr th:only-of-type {\n",
       "        vertical-align: middle;\n",
       "    }\n",
       "\n",
       "    .dataframe tbody tr th {\n",
       "        vertical-align: top;\n",
       "    }\n",
       "\n",
       "    .dataframe thead th {\n",
       "        text-align: right;\n",
       "    }\n",
       "</style>\n",
       "<table border=\"1\" class=\"dataframe\">\n",
       "  <thead>\n",
       "    <tr style=\"text-align: right;\">\n",
       "      <th>target90</th>\n",
       "      <th>0</th>\n",
       "      <th>1</th>\n",
       "    </tr>\n",
       "    <tr>\n",
       "      <th>paymenttype</th>\n",
       "      <th></th>\n",
       "      <th></th>\n",
       "    </tr>\n",
       "  </thead>\n",
       "  <tbody>\n",
       "    <tr>\n",
       "      <th>0</th>\n",
       "      <td>12404</td>\n",
       "      <td>2659</td>\n",
       "    </tr>\n",
       "    <tr>\n",
       "      <th>1</th>\n",
       "      <td>5015</td>\n",
       "      <td>1534</td>\n",
       "    </tr>\n",
       "    <tr>\n",
       "      <th>2</th>\n",
       "      <td>5403</td>\n",
       "      <td>1134</td>\n",
       "    </tr>\n",
       "    <tr>\n",
       "      <th>3</th>\n",
       "      <td>3555</td>\n",
       "      <td>724</td>\n",
       "    </tr>\n",
       "  </tbody>\n",
       "</table>\n",
       "</div>"
      ],
      "text/plain": [
       "target90         0     1\n",
       "paymenttype             \n",
       "0            12404  2659\n",
       "1             5015  1534\n",
       "2             5403  1134\n",
       "3             3555   724"
      ]
     },
     "execution_count": 311,
     "metadata": {},
     "output_type": "execute_result"
    }
   ],
   "source": [
    "df_group1"
   ]
  },
  {
   "cell_type": "code",
   "execution_count": 312,
   "metadata": {
    "slideshow": {
     "slide_type": "subslide"
    }
   },
   "outputs": [
    {
     "data": {
      "text/plain": [
       "(123.93478075493861,\n",
       " 1.0962351516524858e-26,\n",
       " 3,\n",
       " array([[12252.27429999,  2810.72570001],\n",
       "        [ 5326.96968669,  1222.03031331],\n",
       "        [ 5317.20886271,  1219.79113729],\n",
       "        [ 3480.54715061,   798.45284939]]))"
      ]
     },
     "execution_count": 312,
     "metadata": {},
     "output_type": "execute_result"
    }
   ],
   "source": [
    "scipy.stats.chi2_contingency(df_group1)\n",
    "# result: dependent"
   ]
  },
  {
   "cell_type": "code",
   "execution_count": 313,
   "metadata": {
    "slideshow": {
     "slide_type": "subslide"
    }
   },
   "outputs": [],
   "source": [
    "# target90 against deliverytype\n",
    "df_group1 = df.groupby(['target90','deliverytype'])['target90'].count().unstack('target90').fillna(99)"
   ]
  },
  {
   "cell_type": "code",
   "execution_count": 314,
   "metadata": {
    "slideshow": {
     "slide_type": "subslide"
    }
   },
   "outputs": [
    {
     "data": {
      "text/plain": [
       "<matplotlib.axes._subplots.AxesSubplot at 0x7f2283ed44a8>"
      ]
     },
     "execution_count": 314,
     "metadata": {},
     "output_type": "execute_result"
    },
    {
     "data": {
      "image/png": "[encoded data removed]",
      "text/plain": [
       "<Figure size 720x720 with 1 Axes>"
      ]
     },
     "metadata": {},
     "output_type": "display_data"
    }
   ],
   "source": [
    "df_group1.plot(kind='bar', figsize=(10,10), stacked = True )"
   ]
  },
  {
   "cell_type": "code",
   "execution_count": 315,
   "metadata": {
    "slideshow": {
     "slide_type": "subslide"
    }
   },
   "outputs": [
    {
     "data": {
      "text/html": [
       "<div>\n",
       "<style scoped>\n",
       "    .dataframe tbody tr th:only-of-type {\n",
       "        vertical-align: middle;\n",
       "    }\n",
       "\n",
       "    .dataframe tbody tr th {\n",
       "        vertical-align: top;\n",
       "    }\n",
       "\n",
       "    .dataframe thead th {\n",
       "        text-align: right;\n",
       "    }\n",
       "</style>\n",
       "<table border=\"1\" class=\"dataframe\">\n",
       "  <thead>\n",
       "    <tr style=\"text-align: right;\">\n",
       "      <th>target90</th>\n",
       "      <th>0</th>\n",
       "      <th>1</th>\n",
       "    </tr>\n",
       "    <tr>\n",
       "      <th>deliverytype</th>\n",
       "      <th></th>\n",
       "      <th></th>\n",
       "    </tr>\n",
       "  </thead>\n",
       "  <tbody>\n",
       "    <tr>\n",
       "      <th>0</th>\n",
       "      <td>21362</td>\n",
       "      <td>4517</td>\n",
       "    </tr>\n",
       "    <tr>\n",
       "      <th>1</th>\n",
       "      <td>5015</td>\n",
       "      <td>1534</td>\n",
       "    </tr>\n",
       "  </tbody>\n",
       "</table>\n",
       "</div>"
      ],
      "text/plain": [
       "target90          0     1\n",
       "deliverytype             \n",
       "0             21362  4517\n",
       "1              5015  1534"
      ]
     },
     "execution_count": 315,
     "metadata": {},
     "output_type": "execute_result"
    }
   ],
   "source": [
    "df_group1"
   ]
  },
  {
   "cell_type": "code",
   "execution_count": 316,
   "metadata": {
    "slideshow": {
     "slide_type": "subslide"
    }
   },
   "outputs": [
    {
     "data": {
      "text/plain": [
       "(122.29734581355343,\n",
       " 1.9870967548672947e-28,\n",
       " 1,\n",
       " array([[21050.03031331,  4828.96968669],\n",
       "        [ 5326.96968669,  1222.03031331]]))"
      ]
     },
     "execution_count": 316,
     "metadata": {},
     "output_type": "execute_result"
    }
   ],
   "source": [
    "scipy.stats.chi2_contingency(df_group1)\n",
    "#result: dependent"
   ]
  },
  {
   "cell_type": "code",
   "execution_count": 317,
   "metadata": {
    "slideshow": {
     "slide_type": "subslide"
    }
   },
   "outputs": [],
   "source": [
    "# target90 againset voucher (if previous vouncher cashed or not)\n",
    "df_group1 = df.groupby(['target90','voucher'])['target90'].count().unstack('target90').fillna(99)"
   ]
  },
  {
   "cell_type": "code",
   "execution_count": 318,
   "metadata": {
    "slideshow": {
     "slide_type": "subslide"
    }
   },
   "outputs": [
    {
     "data": {
      "text/plain": [
       "<matplotlib.axes._subplots.AxesSubplot at 0x7f2283ebe3c8>"
      ]
     },
     "execution_count": 318,
     "metadata": {},
     "output_type": "execute_result"
    },
    {
     "data": {
      "image/png": "[encoded data removed]",
      "text/plain": [
       "<Figure size 720x720 with 1 Axes>"
      ]
     },
     "metadata": {},
     "output_type": "display_data"
    }
   ],
   "source": [
    "df_group1.plot(kind='bar', figsize=(10,10), stacked = True )"
   ]
  },
  {
   "cell_type": "code",
   "execution_count": 319,
   "metadata": {
    "slideshow": {
     "slide_type": "subslide"
    }
   },
   "outputs": [
    {
     "data": {
      "text/html": [
       "<div>\n",
       "<style scoped>\n",
       "    .dataframe tbody tr th:only-of-type {\n",
       "        vertical-align: middle;\n",
       "    }\n",
       "\n",
       "    .dataframe tbody tr th {\n",
       "        vertical-align: top;\n",
       "    }\n",
       "\n",
       "    .dataframe thead th {\n",
       "        text-align: right;\n",
       "    }\n",
       "</style>\n",
       "<table border=\"1\" class=\"dataframe\">\n",
       "  <thead>\n",
       "    <tr style=\"text-align: right;\">\n",
       "      <th>target90</th>\n",
       "      <th>0</th>\n",
       "      <th>1</th>\n",
       "    </tr>\n",
       "    <tr>\n",
       "      <th>voucher</th>\n",
       "      <th></th>\n",
       "      <th></th>\n",
       "    </tr>\n",
       "  </thead>\n",
       "  <tbody>\n",
       "    <tr>\n",
       "      <th>0</th>\n",
       "      <td>21967</td>\n",
       "      <td>5207</td>\n",
       "    </tr>\n",
       "    <tr>\n",
       "      <th>1</th>\n",
       "      <td>4410</td>\n",
       "      <td>844</td>\n",
       "    </tr>\n",
       "  </tbody>\n",
       "</table>\n",
       "</div>"
      ],
      "text/plain": [
       "target90      0     1\n",
       "voucher              \n",
       "0         21967  5207\n",
       "1          4410   844"
      ]
     },
     "execution_count": 319,
     "metadata": {},
     "output_type": "execute_result"
    }
   ],
   "source": [
    "df_group1"
   ]
  },
  {
   "cell_type": "code",
   "execution_count": 320,
   "metadata": {
    "slideshow": {
     "slide_type": "subslide"
    }
   },
   "outputs": [
    {
     "data": {
      "text/plain": [
       "(27.632049511170166,\n",
       " 1.4672737696166663e-07,\n",
       " 1,\n",
       " array([[22103.38590107,  5070.61409893],\n",
       "        [ 4273.61409893,   980.38590107]]))"
      ]
     },
     "execution_count": 320,
     "metadata": {},
     "output_type": "execute_result"
    }
   ],
   "source": [
    "scipy.stats.chi2_contingency(df_group1)\n",
    "#result: dependent"
   ]
  },
  {
   "cell_type": "code",
   "execution_count": 321,
   "metadata": {
    "slideshow": {
     "slide_type": "subslide"
    }
   },
   "outputs": [],
   "source": [
    "# target90 againset case\n",
    "df_group1 = df.groupby(['target90','case'])['target90'].count().unstack('target90').fillna(99)"
   ]
  },
  {
   "cell_type": "code",
   "execution_count": 322,
   "metadata": {
    "slideshow": {
     "slide_type": "subslide"
    }
   },
   "outputs": [
    {
     "data": {
      "text/plain": [
       "<matplotlib.axes._subplots.AxesSubplot at 0x7f2283e1f128>"
      ]
     },
     "execution_count": 322,
     "metadata": {},
     "output_type": "execute_result"
    },
    {
     "data": {
      "image/png": "[encoded data removed]",
      "text/plain": [
       "<Figure size 720x720 with 1 Axes>"
      ]
     },
     "metadata": {},
     "output_type": "display_data"
    }
   ],
   "source": [
    "df_group1.plot(kind='bar', figsize=(10,10), stacked = True )"
   ]
  },
  {
   "cell_type": "code",
   "execution_count": 323,
   "metadata": {
    "slideshow": {
     "slide_type": "subslide"
    }
   },
   "outputs": [
    {
     "data": {
      "text/html": [
       "<div>\n",
       "<style scoped>\n",
       "    .dataframe tbody tr th:only-of-type {\n",
       "        vertical-align: middle;\n",
       "    }\n",
       "\n",
       "    .dataframe tbody tr th {\n",
       "        vertical-align: top;\n",
       "    }\n",
       "\n",
       "    .dataframe thead th {\n",
       "        text-align: right;\n",
       "    }\n",
       "</style>\n",
       "<table border=\"1\" class=\"dataframe\">\n",
       "  <thead>\n",
       "    <tr style=\"text-align: right;\">\n",
       "      <th>target90</th>\n",
       "      <th>0</th>\n",
       "      <th>1</th>\n",
       "    </tr>\n",
       "    <tr>\n",
       "      <th>case</th>\n",
       "      <th></th>\n",
       "      <th></th>\n",
       "    </tr>\n",
       "  </thead>\n",
       "  <tbody>\n",
       "    <tr>\n",
       "      <th>1</th>\n",
       "      <td>5127</td>\n",
       "      <td>1222</td>\n",
       "    </tr>\n",
       "    <tr>\n",
       "      <th>2</th>\n",
       "      <td>5218</td>\n",
       "      <td>1012</td>\n",
       "    </tr>\n",
       "    <tr>\n",
       "      <th>3</th>\n",
       "      <td>5934</td>\n",
       "      <td>1191</td>\n",
       "    </tr>\n",
       "    <tr>\n",
       "      <th>4</th>\n",
       "      <td>6959</td>\n",
       "      <td>1689</td>\n",
       "    </tr>\n",
       "    <tr>\n",
       "      <th>5</th>\n",
       "      <td>3139</td>\n",
       "      <td>937</td>\n",
       "    </tr>\n",
       "  </tbody>\n",
       "</table>\n",
       "</div>"
      ],
      "text/plain": [
       "target90     0     1\n",
       "case                \n",
       "1         5127  1222\n",
       "2         5218  1012\n",
       "3         5934  1191\n",
       "4         6959  1689\n",
       "5         3139   937"
      ]
     },
     "execution_count": 323,
     "metadata": {},
     "output_type": "execute_result"
    }
   ],
   "source": [
    "df_group1"
   ]
  },
  {
   "cell_type": "code",
   "execution_count": 324,
   "metadata": {
    "slideshow": {
     "slide_type": "subslide"
    }
   },
   "outputs": [
    {
     "data": {
      "text/plain": [
       "(97.77207233228714,\n",
       " 2.9311851256217804e-20,\n",
       " 4,\n",
       " array([[5164.28928704, 1184.71071296],\n",
       "        [5067.49444924, 1162.50555076],\n",
       "        [5795.4892377 , 1329.5107623 ],\n",
       "        [7034.30048107, 1613.69951893],\n",
       "        [3315.42654496,  760.57345504]]))"
      ]
     },
     "execution_count": 324,
     "metadata": {},
     "output_type": "execute_result"
    }
   ],
   "source": [
    "scipy.stats.chi2_contingency(df_group1)\n",
    "# result: dependent"
   ]
  },
  {
   "cell_type": "code",
   "execution_count": 325,
   "metadata": {
    "slideshow": {
     "slide_type": "subslide"
    }
   },
   "outputs": [],
   "source": [
    "# target90 against entry\n",
    "df_group1 = df.groupby(['target90','entry'])['target90'].count().unstack('target90').fillna(99)"
   ]
  },
  {
   "cell_type": "code",
   "execution_count": 326,
   "metadata": {},
   "outputs": [
    {
     "data": {
      "text/plain": [
       "<matplotlib.axes._subplots.AxesSubplot at 0x7f2283d857f0>"
      ]
     },
     "execution_count": 326,
     "metadata": {},
     "output_type": "execute_result"
    },
    {
     "data": {
      "image/png": "[encoded data removed]",
      "text/plain": [
       "<Figure size 720x720 with 1 Axes>"
      ]
     },
     "metadata": {},
     "output_type": "display_data"
    }
   ],
   "source": [
    "df_group1.plot(kind='bar', figsize=(10,10), stacked = True )"
   ]
  },
  {
   "cell_type": "code",
   "execution_count": 327,
   "metadata": {
    "slideshow": {
     "slide_type": "subslide"
    }
   },
   "outputs": [
    {
     "data": {
      "text/plain": [
       "(55.07552842669487,\n",
       " 1.1598603601574276e-13,\n",
       " 1,\n",
       " array([[15439.99673122,  3542.00326878],\n",
       "        [10937.00326878,  2508.99673122]]))"
      ]
     },
     "execution_count": 327,
     "metadata": {},
     "output_type": "execute_result"
    }
   ],
   "source": [
    "df_group1\n",
    "\n",
    "scipy.stats.chi2_contingency(df_group1)\n",
    "# result: dependent"
   ]
  },
  {
   "cell_type": "code",
   "execution_count": 328,
   "metadata": {
    "slideshow": {
     "slide_type": "subslide"
    }
   },
   "outputs": [
    {
     "data": {
      "text/plain": [
       "<matplotlib.axes._subplots.AxesSubplot at 0x7f2283dfd128>"
      ]
     },
     "execution_count": 328,
     "metadata": {},
     "output_type": "execute_result"
    },
    {
     "data": {
      "image/png": "[encoded data removed]",
      "text/plain": [
       "<Figure size 720x720 with 1 Axes>"
      ]
     },
     "metadata": {},
     "output_type": "display_data"
    }
   ],
   "source": [
    "# target90 against shippingcosts\n",
    "df_group1 = df.groupby(['target90','shippingcosts'])['target90'].count().unstack('target90').fillna(99)\n",
    "df_group1.plot(kind='bar', figsize=(10,10), stacked = True )"
   ]
  },
  {
   "cell_type": "code",
   "execution_count": 329,
   "metadata": {
    "slideshow": {
     "slide_type": "subslide"
    }
   },
   "outputs": [
    {
     "data": {
      "text/plain": [
       "(162.47383487966454,\n",
       " 3.2596449360277816e-37,\n",
       " 1,\n",
       " array([[22404.34464043,  5139.65535957],\n",
       "        [ 3972.65535957,   911.34464043]]))"
      ]
     },
     "execution_count": 329,
     "metadata": {},
     "output_type": "execute_result"
    }
   ],
   "source": [
    "df_group1\n",
    "\n",
    "scipy.stats.chi2_contingency(df_group1)\n",
    "# result: dependent"
   ]
  },
  {
   "cell_type": "markdown",
   "metadata": {
    "slideshow": {
     "slide_type": "subslide"
    }
   },
   "source": [
    "### Conclusion (Can my variables predict the target 90?):\n",
    "1. domain and target90 are independent,so our assumption is not right, drop the column\n",
    "2. among all categorical varirable: newsletter, paymenttype, deliverytype, case, voucher, entry, shippingcosts are dependent with the target 90"
   ]
  },
  {
   "cell_type": "markdown",
   "metadata": {
    "slideshow": {
     "slide_type": "subslide"
    }
   },
   "source": [
    "Correlation of 11 product category and target 90"
   ]
  },
  {
   "cell_type": "code",
   "execution_count": 330,
   "metadata": {
    "slideshow": {
     "slide_type": "subslide"
    }
   },
   "outputs": [
    {
     "data": {
      "image/png": "[encoded data removed]",
      "text/plain": [
       "<Figure size 1440x648 with 2 Axes>"
      ]
     },
     "metadata": {},
     "output_type": "display_data"
    }
   ],
   "source": [
    "# correlation of other variable and target 90\n",
    "df_heatmeat2 = df.loc [:,['salutation', 'newsletter', 'paymenttype','deliverytype','case','voucher', 'entry', 'shippingcosts','numberitems', 'weight', 'target90']]\n",
    "corr = df_heatmeat2.corr()\n",
    "f, ax = plt.subplots(figsize=(20, 9))\n",
    "sns.heatmap(corr, vmax=.8,annot_kws={'size': 5}, annot=True, cmap = \"YlGnBu\");"
   ]
  },
  {
   "cell_type": "code",
   "execution_count": 331,
   "metadata": {
    "slideshow": {
     "slide_type": "subslide"
    }
   },
   "outputs": [
    {
     "data": {
      "image/png": "[encoded data removed]",
      "text/plain": [
       "<Figure size 1440x648 with 2 Axes>"
      ]
     },
     "metadata": {},
     "output_type": "display_data"
    }
   ],
   "source": [
    "df_heatmap = df.iloc[:,26:38]\n",
    "corr = df_heatmap.corr()\n",
    "f, ax = plt.subplots(figsize=(20, 9))\n",
    "sns.heatmap(corr, vmax=.8,annot_kws={'size': 5}, annot=True, cmap = 'BuPu');"
   ]
  },
  {
   "cell_type": "markdown",
   "metadata": {
    "slideshow": {
     "slide_type": "subslide"
    }
   },
   "source": [
    "Conclusion from heatmap correlations: \n",
    "The heatmap gives us a visualization of the correlation matix, the correlation between weight & number of item is 0.77, \n",
    "Thus, we think they are highly correlcted, we need to remove one"
   ]
  },
  {
   "cell_type": "markdown",
   "metadata": {
    "slideshow": {
     "slide_type": "fragment"
    }
   },
   "source": [
    "Limitation: More thorough consideration of multicolinearity, maybe use PCA to remove features"
   ]
  },
  {
   "cell_type": "markdown",
   "metadata": {
    "slideshow": {
     "slide_type": "slide"
    }
   },
   "source": [
    "## Variable Adoption"
   ]
  },
  {
   "cell_type": "code",
   "execution_count": 260,
   "metadata": {
    "slideshow": {
     "slide_type": "fragment"
    }
   },
   "outputs": [
    {
     "name": "stdout",
     "output_type": "stream",
     "text": [
      "(32428, 38)\n",
      "0    26377\n",
      "1     6051\n",
      "Name: target90, dtype: int64\n"
     ]
    }
   ],
   "source": [
    "print(df.shape)\n",
    "print(df['target90'].value_counts())"
   ]
  },
  {
   "cell_type": "markdown",
   "metadata": {
    "slideshow": {
     "slide_type": "subslide"
    }
   },
   "source": [
    "### Easy drops and transformations"
   ]
  },
  {
   "cell_type": "code",
   "execution_count": 261,
   "metadata": {
    "slideshow": {
     "slide_type": "fragment"
    }
   },
   "outputs": [],
   "source": [
    "df = df.drop(['customernumber'], axis=1)"
   ]
  },
  {
   "cell_type": "markdown",
   "metadata": {
    "slideshow": {
     "slide_type": "fragment"
    }
   },
   "source": [
    "If deliverytype is collection/pickup, the deliverypostcode is always NAN. We think the postcodes may have some predictive power as a categorical variable, but they would require too much computational power because we would have to create many dummy variables. Therefore, we drop the invoicepostcode and the deliverypostcode and only leave the deliverytype."
   ]
  },
  {
   "cell_type": "code",
   "execution_count": 262,
   "metadata": {
    "slideshow": {
     "slide_type": "fragment"
    }
   },
   "outputs": [],
   "source": [
    "df = df.drop(['delivpostcode', 'invoicepostcode'], axis=1)"
   ]
  },
  {
   "cell_type": "markdown",
   "metadata": {
    "slideshow": {
     "slide_type": "fragment"
    }
   },
   "source": [
    "Many missing values here and many different codes. We think the fact that a customer came as a result of a campaign is important. Therefore, the column is transformed to a dummy variable in the next line, we do not care about the specific type of advertising campaign."
   ]
  },
  {
   "cell_type": "code",
   "execution_count": 263,
   "metadata": {
    "slideshow": {
     "slide_type": "subslide"
    }
   },
   "outputs": [
    {
     "name": "stdout",
     "output_type": "stream",
     "text": [
      "Unique advertising data codes:  ['BL' nan 'BD' 'AQ' 'AB' 'BQ' 'CA' 'BX' 'BM' 'BT' 'BR' 'AE' 'BC' 'BB' 'AR'\n",
      " 'BS' 'BO' 'AP' 'BF' 'BZ' 'AI' 'BY' 'AW' 'AL' 'AK' 'AM' 'AV' 'AT' 'BG'\n",
      " 'AX' 'BI' 'AY' 'AH' 'AO' 'AZ' 'BK' 'AG' 'BV' 'AD' 'BA' 'AF' 'AU' 'BE'\n",
      " 'AS' 'AC']\n",
      "0    25905\n",
      "1     6523\n",
      "Name: hasadvertisingdatacode_custom, dtype: int64\n"
     ]
    }
   ],
   "source": [
    "print(\"Unique advertising data codes: \", df.advertisingdatacode.unique()) # Too many different codes, not usable as a categorical variable in that form.\n",
    "df['hasadvertisingdatacode_custom'] = np.where(df['advertisingdatacode'].isna(), 0, 1) # Better transform it into boolean; it is not important which campaign it was, it is more important that the customer was acquired through a campaign at all.\n",
    "df = df.drop(['advertisingdatacode'], axis=1) # And delete the old column.\n",
    "print(df['hasadvertisingdatacode_custom'].value_counts())"
   ]
  },
  {
   "cell_type": "markdown",
   "metadata": {
    "slideshow": {
     "slide_type": "subslide"
    }
   },
   "source": [
    "### Easy drops and transformations"
   ]
  },
  {
   "cell_type": "markdown",
   "metadata": {
    "slideshow": {
     "slide_type": "fragment"
    }
   },
   "source": [
    "We assume the people that have \"other\" domains may take their account more serious (because they do not just use a trash email account) or they may be more sophisticated users."
   ]
  },
  {
   "cell_type": "code",
   "execution_count": 264,
   "metadata": {
    "slideshow": {
     "slide_type": "fragment"
    }
   },
   "outputs": [],
   "source": [
    "df['domain_custom'] = np.where(df['domain'] == 12, 0, 1)"
   ]
  },
  {
   "cell_type": "markdown",
   "metadata": {
    "slideshow": {
     "slide_type": "fragment"
    }
   },
   "source": [
    "Already covered by number of individual item types (w0, w1...)."
   ]
  },
  {
   "cell_type": "code",
   "execution_count": 265,
   "metadata": {
    "slideshow": {
     "slide_type": "fragment"
    }
   },
   "outputs": [],
   "source": [
    "df = df.drop(['numberitems'], axis=1)"
   ]
  },
  {
   "cell_type": "code",
   "execution_count": 266,
   "metadata": {
    "slideshow": {
     "slide_type": "fragment"
    }
   },
   "outputs": [],
   "source": [
    "# Only 6 orders from category w8 shipped -> Drop."
   ]
  },
  {
   "cell_type": "code",
   "execution_count": 267,
   "metadata": {
    "slideshow": {
     "slide_type": "fragment"
    }
   },
   "outputs": [],
   "source": [
    "df = df.drop(['w8'], axis=1)"
   ]
  },
  {
   "cell_type": "markdown",
   "metadata": {
    "slideshow": {
     "slide_type": "subslide"
    }
   },
   "source": [
    "### Transforming date columns"
   ]
  },
  {
   "cell_type": "code",
   "execution_count": 268,
   "metadata": {
    "slideshow": {
     "slide_type": "fragment"
    }
   },
   "outputs": [],
   "source": [
    "df['date'] = pd.to_datetime(df['date'])\n",
    "df['datecreated'] = pd.to_datetime(df['datecreated'])\n",
    "df['deliverydatepromised'] = pd.to_datetime(df['deliverydatepromised'], errors='coerce')\n",
    "df['deliverydatereal'] = pd.to_datetime(df['deliverydatereal'], errors='coerce')\n"
   ]
  },
  {
   "cell_type": "markdown",
   "metadata": {
    "slideshow": {
     "slide_type": "subslide"
    }
   },
   "source": [
    "### Assumption: Customers are dissatisfied when there is a delay and the duration of the delay is not very important."
   ]
  },
  {
   "cell_type": "code",
   "execution_count": 269,
   "metadata": {
    "slideshow": {
     "slide_type": "fragment"
    }
   },
   "outputs": [
    {
     "name": "stdout",
     "output_type": "stream",
     "text": [
      "custom 30536\n"
     ]
    }
   ],
   "source": [
    "df.loc[(df['deliverydatereal'] > df['deliverydatepromised']), 'deliveryontime_custom'] = 0\n",
    "print(\"custom\", df['deliveryontime_custom'].isna().sum())\n",
    "df.loc[(df['deliverydatereal'] <= df['deliverydatepromised']), 'deliveryontime_custom'] = 1\n",
    "df.loc[(df['w3'] > 0), 'deliveryontime_custom'] = 1 # Intangible good, no delivery time\n",
    "df.loc[(df['w5'] > 0), 'deliveryontime_custom'] = 1 # Intangible good, no delivery time\n",
    "df.loc[(df['w10'] > 0), 'deliveryontime_custom'] = 1 # Intangible good, no delivery time\n",
    "df.loc[(df['cancel'] > 0), 'deliveryontime_custom'] = 1 # Intangible good, no delivery time\n",
    "df = df.dropna(subset=['deliveryontime_custom']) # Only 34 NAs left for deliveryontime_custom. We just drop those.\n",
    "df = df.drop(['deliverydatepromised', 'deliverydatereal'], axis=1) # Not needed anymore."
   ]
  },
  {
   "cell_type": "markdown",
   "metadata": {
    "slideshow": {
     "slide_type": "subslide"
    }
   },
   "source": [
    "Create new dummy column that is 1 if the customer ordered at the day of account creation."
   ]
  },
  {
   "cell_type": "code",
   "execution_count": 270,
   "metadata": {
    "slideshow": {
     "slide_type": "fragment"
    }
   },
   "outputs": [
    {
     "name": "stdout",
     "output_type": "stream",
     "text": [
      "int64\n"
     ]
    }
   ],
   "source": [
    "df['time_to_first_order_custom'] = df['date'] - df['datecreated']\n",
    "df['time_to_first_order_custom'] = df['time_to_first_order_custom'].dt.days\n",
    "print(df['time_to_first_order_custom'].dtypes)\n",
    "df['time_to_first_order_custom'] = pd.to_numeric(df['time_to_first_order_custom'])\n",
    "df['ordered_directly_after_account_creation_custom'] = np.where(df['time_to_first_order_custom'] == 0, 1, 0)\n",
    "df = df.drop(['time_to_first_order_custom', 'date', 'datecreated'], axis=1) # Not needed anymore."
   ]
  },
  {
   "cell_type": "markdown",
   "metadata": {
    "slideshow": {
     "slide_type": "subslide"
    }
   },
   "source": [
    "We are more interested if there were any used items in the order and less interested in the exact number of used items."
   ]
  },
  {
   "cell_type": "code",
   "execution_count": 271,
   "metadata": {
    "slideshow": {
     "slide_type": "fragment"
    }
   },
   "outputs": [],
   "source": [
    "df['used_custom'] = np.where(df['used'] >= 0, 1, 0)\n",
    "df = df.drop(['used'], axis=1)"
   ]
  },
  {
   "cell_type": "markdown",
   "metadata": {
    "slideshow": {
     "slide_type": "fragment"
    }
   },
   "source": [
    "We are more interested if there were any canceled items in the order and less interested in the exact number of canceled items."
   ]
  },
  {
   "cell_type": "code",
   "execution_count": 272,
   "metadata": {
    "slideshow": {
     "slide_type": "fragment"
    }
   },
   "outputs": [],
   "source": [
    "df['cancel_custom'] = np.where(df['cancel'] >= 0, 1, 0)\n",
    "df = df.drop(['cancel'], axis=1)"
   ]
  },
  {
   "cell_type": "markdown",
   "metadata": {
    "slideshow": {
     "slide_type": "subslide"
    }
   },
   "source": [
    "EPA showed that there is little correlation between remit and the target variable."
   ]
  },
  {
   "cell_type": "code",
   "execution_count": 273,
   "metadata": {
    "slideshow": {
     "slide_type": "fragment"
    }
   },
   "outputs": [],
   "source": [
    "df = df.drop(['remi'], axis=1)"
   ]
  },
  {
   "cell_type": "markdown",
   "metadata": {
    "slideshow": {
     "slide_type": "subslide"
    }
   },
   "source": [
    "#### Checking unique values of categorical variables and dropping variables with unwanted properties (e.g., outliers)"
   ]
  },
  {
   "cell_type": "code",
   "execution_count": 274,
   "metadata": {
    "slideshow": {
     "slide_type": "fragment"
    }
   },
   "outputs": [
    {
     "name": "stdout",
     "output_type": "stream",
     "text": [
      "Columns with missing values:  Index([], dtype='object')\n",
      "Unique salutations:  [1 0 2]\n",
      "Values for each category:  0    0.550164\n",
      "1    0.358091\n",
      "2    0.091745\n",
      "Name: salutation, dtype: float64\n",
      "Unique titles:  [0 1]\n",
      "Values for each category:  0    0.993023\n",
      "1    0.006977\n",
      "Name: title, dtype: float64\n"
     ]
    }
   ],
   "source": [
    "print(\"Columns with missing values: \", df.columns[df.isnull().any()])\n",
    "print(\"Unique salutations: \", df.salutation.unique()) # No outliers found (0  = Ms; 1 = Mr; 2 = Company)\n",
    "print(\"Values for each category: \", df.salutation.value_counts(normalize=True))\n",
    "print(\"Unique titles: \", df.title.unique()) # No outliers found (0 = no title; 1 = title)\n",
    "print(\"Values for each category: \", df.title.value_counts(normalize=True))"
   ]
  },
  {
   "cell_type": "code",
   "execution_count": 275,
   "metadata": {
    "slideshow": {
     "slide_type": "subslide"
    }
   },
   "outputs": [
    {
     "name": "stdout",
     "output_type": "stream",
     "text": [
      "Unique domains:  [ 4  8 12  1  9  3 11  5  0  7  6  2 10]\n",
      "Values for each category:\n",
      " 12    0.238501\n",
      "9     0.214422\n",
      "4     0.204328\n",
      "8     0.113910\n",
      "11    0.043866\n",
      "5     0.040378\n",
      "2     0.036920\n",
      "0     0.036149\n",
      "1     0.035161\n",
      "6     0.016886\n",
      "3     0.011761\n",
      "10    0.004229\n",
      "7     0.003488\n",
      "Name: domain, dtype: float64\n",
      "Unique newsletters:  [0 1]\n"
     ]
    }
   ],
   "source": [
    "df = df.drop(['title'], axis=1) # Drop because very rare (<0.01%) (but still a burden when computing).\n",
    "print(\"Unique domains: \", df.domain.unique()) # No outliers found (0 = aol.com; 1 = arcor.de; 2 = freenet.de; 3 = gmail.com; 4 = gmx.de; 5 = hotmail.de; 6 = online.de; 7 = onlinehome.de; 8 = t-online.de; 9 = web.de; 10 = yahoo.com; 11 = yahoo.de; 12 = others)\n",
    "print(\"Values for each category:\\n\", df.domain.value_counts(normalize=True))\n",
    "print(\"Unique newsletters: \", df.newsletter.unique()) # No outliers found (0 = no; 1 = yes)"
   ]
  },
  {
   "cell_type": "code",
   "execution_count": 276,
   "metadata": {
    "slideshow": {
     "slide_type": "subslide"
    }
   },
   "outputs": [
    {
     "name": "stdout",
     "output_type": "stream",
     "text": [
      "Values for each category:  0    0.830462\n",
      "1    0.169538\n",
      "Name: newsletter, dtype: float64\n",
      "Unique models:  [1 3 2]\n",
      "Values for each category:  1    0.579614\n",
      "3    0.227079\n",
      "2    0.193307\n",
      "Name: model, dtype: float64\n"
     ]
    }
   ],
   "source": [
    "print(\"Values for each category: \", df.newsletter.value_counts(normalize=True))\n",
    "print(\"Unique models: \", df.model.unique()) # No outliers found (models 1, 2, 3)\n",
    "print(\"Values for each category: \", df.model.value_counts(normalize=True))\n",
    "df = df.drop(['model'], axis=1) # We did not understand what model means and thought it is better to drop it. We cannot test it for plausibility."
   ]
  },
  {
   "cell_type": "code",
   "execution_count": 277,
   "metadata": {
    "slideshow": {
     "slide_type": "subslide"
    }
   },
   "outputs": [
    {
     "name": "stdout",
     "output_type": "stream",
     "text": [
      "Unique payment types:  [0 2 3 1]\n",
      "Values for each category:  0    0.464407\n",
      "1    0.201982\n",
      "2    0.201550\n",
      "3    0.132061\n",
      "Name: paymenttype, dtype: float64\n",
      "Unique delivery types:  [0 1]\n"
     ]
    }
   ],
   "source": [
    "print(\"Unique payment types: \", df.paymenttype.unique()) # No outliers found (0 = Payment on invoice; 1 = Cash payment; 2 = Transfer from current account; 3 = Transfer from credit card)\n",
    "print(\"Values for each category: \", df.paymenttype.value_counts(normalize=True))\n",
    "print(\"Unique delivery types: \", df.deliverytype.unique()) # No outliers found (Delivery type: 0 = Dispatch; 1 = collection)"
   ]
  },
  {
   "cell_type": "code",
   "execution_count": 278,
   "metadata": {
    "slideshow": {
     "slide_type": "subslide"
    }
   },
   "outputs": [
    {
     "name": "stdout",
     "output_type": "stream",
     "text": [
      "Values for each category:  0    0.798018\n",
      "1    0.201982\n",
      "Name: deliverytype, dtype: float64\n",
      "Unique voucher redeptions:  [0 1]\n",
      "Values for each category:  0    0.837809\n",
      "1    0.162191\n",
      "Name: voucher, dtype: float64\n",
      "Unique values of goods (case):  [3 1 4 2 5]\n"
     ]
    }
   ],
   "source": [
    "print(\"Values for each category: \", df.deliverytype.value_counts(normalize=True))\n",
    "print(\"Unique voucher redeptions: \", df.voucher.unique()) # No outliers found (Voucher redeemed: 0 = No; 1 = Yes)\n",
    "print(\"Values for each category: \", df.voucher.value_counts(normalize=True))\n",
    "print(\"Unique values of goods (case): \", df.case.unique()) # No outliers found (Value of goods: 1 = low; 5 = high)"
   ]
  },
  {
   "cell_type": "code",
   "execution_count": 279,
   "metadata": {
    "slideshow": {
     "slide_type": "subslide"
    }
   },
   "outputs": [
    {
     "name": "stdout",
     "output_type": "stream",
     "text": [
      "Values for each category:  4    0.266593\n",
      "3    0.219639\n",
      "1    0.195900\n",
      "2    0.192073\n",
      "5    0.125795\n",
      "Name: case, dtype: float64\n",
      "Unique gift options:  [0 1]\n",
      "Values for each category:  0    0.995431\n",
      "1    0.004569\n",
      "Name: gift, dtype: float64\n"
     ]
    }
   ],
   "source": [
    "print(\"Values for each category: \", df.case.value_counts(normalize=True))\n",
    "print(\"Unique gift options: \", df.gift.unique()) # Almost never with gift option, drop (Gift option: 0 = No; 1 = Yes)\n",
    "print(\"Values for each category: \", df.gift.value_counts(normalize=True))\n",
    "df = df.drop(['gift'], axis=1)"
   ]
  },
  {
   "cell_type": "code",
   "execution_count": 280,
   "metadata": {
    "slideshow": {
     "slide_type": "subslide"
    }
   },
   "outputs": [
    {
     "name": "stdout",
     "output_type": "stream",
     "text": [
      "Unique entry:  [0 1]\n",
      "Values for each category:  0    0.585016\n",
      "1    0.414984\n",
      "Name: entry, dtype: float64\n",
      "Unique points redeemed:  [0]\n",
      "Values for each category:  0    1.0\n",
      "Name: points, dtype: float64\n",
      "Unique shipping costs incurred:  [0 1]\n",
      "Values for each category:  0    0.849602\n",
      "1    0.150398\n",
      "Name: shippingcosts, dtype: float64\n"
     ]
    }
   ],
   "source": [
    "print(\"Unique entry: \", df.entry.unique()) # No outliers found (Entry into the shop: 0 = Shop; 1 = Partner)\n",
    "print(\"Values for each category: \", df.entry.value_counts(normalize=True))\n",
    "print(\"Unique points redeemed: \", df.points.unique()) # Always 0, drop (Points redeemed: 0 = No; 1 = Yes)\n",
    "print(\"Values for each category: \", df.points.value_counts(normalize=True))\n",
    "df = df.drop(['points'], axis=1)\n",
    "print(\"Unique shipping costs incurred: \", df.shippingcosts.unique()) # No outliers found (Shipping costs incurred: 0 = No; 1 = Yes)\n",
    "print(\"Values for each category: \", df.shippingcosts.value_counts(normalize=True))"
   ]
  },
  {
   "cell_type": "markdown",
   "metadata": {
    "slideshow": {
     "slide_type": "subslide"
    }
   },
   "source": [
    "#### Weights"
   ]
  },
  {
   "cell_type": "code",
   "execution_count": 129,
   "metadata": {
    "slideshow": {
     "slide_type": "fragment"
    }
   },
   "outputs": [
    {
     "name": "stdout",
     "output_type": "stream",
     "text": [
      "12328    1103\n",
      "31086     656\n",
      "1999     2110\n",
      "626         0\n",
      "3275     2768\n",
      "16282     998\n",
      "30858     714\n",
      "23374     629\n",
      "Name: weight, dtype: int64\n"
     ]
    }
   ],
   "source": [
    "print(df.weight.head(8))"
   ]
  },
  {
   "cell_type": "markdown",
   "metadata": {
    "slideshow": {
     "slide_type": "fragment"
    }
   },
   "source": [
    "Some weights are 0, but this is plausible. There are non-tangible items in the product portfolio of the company. In fact, we checked the orders that have a weight of 0 and they consist of non-tangible items.\n",
    "The weight has a strong correlation with the number of items and the types of items. As we still have these variables in our dataframe, we drop weight."
   ]
  },
  {
   "cell_type": "code",
   "execution_count": 130,
   "metadata": {
    "slideshow": {
     "slide_type": "fragment"
    }
   },
   "outputs": [],
   "source": [
    "df = df.drop(['weight'], axis=1)"
   ]
  },
  {
   "cell_type": "markdown",
   "metadata": {
    "slideshow": {
     "slide_type": "subslide"
    }
   },
   "source": [
    "### Comparing before and after"
   ]
  },
  {
   "cell_type": "markdown",
   "metadata": {
    "slideshow": {
     "slide_type": "fragment"
    }
   },
   "source": [
    "Number of observations in original dataset vs. now:"
   ]
  },
  {
   "cell_type": "code",
   "execution_count": 131,
   "metadata": {
    "slideshow": {
     "slide_type": "fragment"
    }
   },
   "outputs": [
    {
     "data": {
      "text/plain": [
       "32394"
      ]
     },
     "execution_count": 131,
     "metadata": {},
     "output_type": "execute_result"
    }
   ],
   "source": [
    "number_observations_original\n",
    "df.target90.count()"
   ]
  },
  {
   "cell_type": "markdown",
   "metadata": {
    "slideshow": {
     "slide_type": "fragment"
    }
   },
   "source": [
    "Number of columns original: 37, after:"
   ]
  },
  {
   "cell_type": "code",
   "execution_count": 132,
   "metadata": {
    "slideshow": {
     "slide_type": "fragment"
    }
   },
   "outputs": [
    {
     "data": {
      "text/plain": [
       "26"
      ]
     },
     "execution_count": 132,
     "metadata": {},
     "output_type": "execute_result"
    }
   ],
   "source": [
    "len(df.columns)"
   ]
  },
  {
   "cell_type": "markdown",
   "metadata": {
    "slideshow": {
     "slide_type": "fragment"
    }
   },
   "source": [
    "This number will now increase dramatically as we create dummy variables."
   ]
  },
  {
   "cell_type": "markdown",
   "metadata": {
    "slideshow": {
     "slide_type": "subslide"
    }
   },
   "source": [
    "### Creating dummies and dropping original category columns."
   ]
  },
  {
   "cell_type": "code",
   "execution_count": 133,
   "metadata": {
    "slideshow": {
     "slide_type": "fragment"
    }
   },
   "outputs": [],
   "source": [
    "df = pd.get_dummies(df, columns=['salutation', 'domain_custom', 'newsletter', 'paymenttype', 'deliverytype'])\n",
    "df = pd.get_dummies(df, columns=['voucher', 'case', 'entry', 'cancel_custom', 'used_custom', 'shippingcosts', 'hasadvertisingdatacode_custom'])"
   ]
  },
  {
   "cell_type": "markdown",
   "metadata": {
    "slideshow": {
     "slide_type": "subslide"
    }
   },
   "source": [
    "### Standardize and normalize"
   ]
  },
  {
   "cell_type": "code",
   "execution_count": 134,
   "metadata": {
    "slideshow": {
     "slide_type": "fragment"
    }
   },
   "outputs": [
    {
     "name": "stderr",
     "output_type": "stream",
     "text": [
      "/home/janspoerer/anaconda3/lib/python3.6/site-packages/pandas/core/reshape/merge.py:970: UserWarning: You are merging on int and float columns where the float values are not equal to their int representation\n",
      "  'representation', UserWarning)\n",
      "/home/janspoerer/anaconda3/lib/python3.6/site-packages/pandas/core/reshape/merge.py:970: UserWarning: You are merging on int and float columns where the float values are not equal to their int representation\n",
      "  'representation', UserWarning)\n",
      "/home/janspoerer/anaconda3/lib/python3.6/site-packages/pandas/core/reshape/merge.py:970: UserWarning: You are merging on int and float columns where the float values are not equal to their int representation\n",
      "  'representation', UserWarning)\n",
      "/home/janspoerer/anaconda3/lib/python3.6/site-packages/pandas/core/reshape/merge.py:970: UserWarning: You are merging on int and float columns where the float values are not equal to their int representation\n",
      "  'representation', UserWarning)\n",
      "/home/janspoerer/anaconda3/lib/python3.6/site-packages/pandas/core/reshape/merge.py:970: UserWarning: You are merging on int and float columns where the float values are not equal to their int representation\n",
      "  'representation', UserWarning)\n",
      "/home/janspoerer/anaconda3/lib/python3.6/site-packages/pandas/core/reshape/merge.py:970: UserWarning: You are merging on int and float columns where the float values are not equal to their int representation\n",
      "  'representation', UserWarning)\n",
      "/home/janspoerer/anaconda3/lib/python3.6/site-packages/pandas/core/reshape/merge.py:970: UserWarning: You are merging on int and float columns where the float values are not equal to their int representation\n",
      "  'representation', UserWarning)\n",
      "/home/janspoerer/anaconda3/lib/python3.6/site-packages/pandas/core/reshape/merge.py:970: UserWarning: You are merging on int and float columns where the float values are not equal to their int representation\n",
      "  'representation', UserWarning)\n",
      "/home/janspoerer/anaconda3/lib/python3.6/site-packages/pandas/core/reshape/merge.py:970: UserWarning: You are merging on int and float columns where the float values are not equal to their int representation\n",
      "  'representation', UserWarning)\n",
      "/home/janspoerer/anaconda3/lib/python3.6/site-packages/pandas/core/reshape/merge.py:970: UserWarning: You are merging on int and float columns where the float values are not equal to their int representation\n",
      "  'representation', UserWarning)\n"
     ]
    },
    {
     "data": {
      "text/plain": [
       "(32394, 42)"
      ]
     },
     "execution_count": 134,
     "metadata": {},
     "output_type": "execute_result"
    }
   ],
   "source": [
    "df_standardized = (df[['w0', 'w1', 'w2', 'w3', 'w4', 'w5', 'w6', 'w7', 'w9', 'w10']]-df[['w0', 'w1', 'w2', 'w3', 'w4', 'w5', 'w6', 'w7', 'w9', 'w10']].mean())/df[['w0', 'w1', 'w2', 'w3', 'w4', 'w5', 'w6', 'w7', 'w9', 'w10']].std()\n",
    "df_normalized = (df_standardized[['w0', 'w1', 'w2', 'w3', 'w4', 'w5', 'w6', 'w7', 'w9', 'w10']]-df_standardized[['w0', 'w1', 'w2', 'w3', 'w4', 'w5', 'w6', 'w7', 'w9', 'w10']].min())/(df_standardized[['w0', 'w1', 'w2', 'w3', 'w4', 'w5', 'w6', 'w7', 'w9', 'w10']].max()-df_standardized[['w0', 'w1', 'w2', 'w3', 'w4', 'w5', 'w6', 'w7', 'w9', 'w10']].min())\n",
    "df.merge(df_normalized)\n",
    "df.shape"
   ]
  },
  {
   "cell_type": "markdown",
   "metadata": {
    "slideshow": {
     "slide_type": "subslide"
    }
   },
   "source": [
    "### Final deletion of NAs"
   ]
  },
  {
   "cell_type": "markdown",
   "metadata": {
    "slideshow": {
     "slide_type": "fragment"
    }
   },
   "source": [
    "We used our domain knowledge to decide against performing PCA to reduce the number of features. We believe the variables selected are meaningful and we already identified colinear variables (number of items vs. number of individual item types; weight vs. number of individual item types)."
   ]
  },
  {
   "cell_type": "code",
   "execution_count": 135,
   "metadata": {
    "slideshow": {
     "slide_type": "fragment"
    }
   },
   "outputs": [
    {
     "name": "stdout",
     "output_type": "stream",
     "text": [
      "(32394, 42)\n"
     ]
    }
   ],
   "source": [
    "df = df.dropna(how='any') # Little number of NAs was found! Data is already pretty clean.\n",
    "print(df.shape)"
   ]
  },
  {
   "cell_type": "code",
   "execution_count": 136,
   "metadata": {
    "slideshow": {
     "slide_type": "subslide"
    }
   },
   "outputs": [
    {
     "data": {
      "text/plain": [
       "target90                                          1.000000\n",
       "newsletter_1                                      0.082814\n",
       "shippingcosts_0                                   0.070667\n",
       "deliverytype_1                                    0.061361\n",
       "paymenttype_1                                     0.061361\n",
       "case_5                                            0.042025\n",
       "entry_1                                           0.040889\n",
       "w1                                                0.033869\n",
       "w5                                                0.031978\n",
       "voucher_0                                         0.029493\n",
       "w9                                                0.019191\n",
       "salutation_0                                      0.019029\n",
       "w3                                                0.018892\n",
       "w0                                                0.016538\n",
       "w2                                                0.015995\n",
       "case_4                                            0.013456\n",
       "deliveryontime_custom                             0.008749\n",
       "domain                                            0.008522\n",
       "case_1                                            0.007345\n",
       "w6                                                0.004483\n",
       "domain_custom_0                                   0.003173\n",
       "hasadvertisingdatacode_custom_1                   0.000455\n",
       "hasadvertisingdatacode_custom_0                  -0.000455\n",
       "salutation_1                                     -0.001066\n",
       "domain_custom_1                                  -0.003173\n",
       "w7                                               -0.007108\n",
       "w4                                               -0.007805\n",
       "w10                                              -0.014074\n",
       "paymenttype_2                                    -0.016858\n",
       "paymenttype_3                                    -0.017541\n",
       "paymenttype_0                                    -0.023929\n",
       "case_3                                           -0.026369\n",
       "voucher_1                                        -0.029493\n",
       "case_2                                           -0.030169\n",
       "salutation_2                                     -0.031024\n",
       "ordered_directly_after_account_creation_custom   -0.032442\n",
       "entry_0                                          -0.040889\n",
       "deliverytype_0                                   -0.061361\n",
       "shippingcosts_1                                  -0.070667\n",
       "newsletter_0                                     -0.082814\n",
       "cancel_custom_1                                        NaN\n",
       "used_custom_1                                          NaN\n",
       "Name: target90, dtype: float64"
      ]
     },
     "execution_count": 136,
     "metadata": {},
     "output_type": "execute_result"
    }
   ],
   "source": [
    "corr_matrix = df.corr()\n",
    "corr_matrix[\"target90\"].sort_values(ascending=False)"
   ]
  },
  {
   "cell_type": "code",
   "execution_count": 137,
   "metadata": {
    "slideshow": {
     "slide_type": "subslide"
    }
   },
   "outputs": [],
   "source": [
    "#df = df.drop(['cancel_custom_1', 'used_custom_1', 'domain_custom_0', 'domain_custom_1', 'hasadvertisingdatacode_custom_0', 'hasadvertisingdatacode_custom_1', 'salutation_1'], axis = 1)\n",
    "df = df.drop(['deliveryontime_custom', 'domain', 'case_1', 'w6', \n",
    "              'domain_custom_0', 'hasadvertisingdatacode_custom_1', \n",
    "              'hasadvertisingdatacode_custom_0', 'salutation_1',\n",
    "              'domain_custom_1', 'w7', 'w4', 'cancel_custom_1', 'used_custom_1'], axis=1) # Not needed anymore.\n"
   ]
  },
  {
   "cell_type": "markdown",
   "metadata": {
    "slideshow": {
     "slide_type": "subslide"
    }
   },
   "source": [
    "# Cross Validation "
   ]
  },
  {
   "cell_type": "markdown",
   "metadata": {},
   "source": [
    "Balancing (to minimize getting biased samplies during sampling)\n",
    "Since we have only about 6000 rows, we do not need to down sample\n"
   ]
  },
  {
   "cell_type": "code",
   "execution_count": 138,
   "metadata": {
    "slideshow": {
     "slide_type": "fragment"
    }
   },
   "outputs": [
    {
     "name": "stdout",
     "output_type": "stream",
     "text": [
      "\n",
      " \n",
      " Data Frame\n",
      "0    26344\n",
      "1     6050\n",
      "Name: target90, dtype: int64\n",
      "\n",
      " \n",
      " Cross Validation Data Frame After Balancing\n",
      "1    6050\n",
      "0    6050\n",
      "Name: target90, dtype: int64\n"
     ]
    }
   ],
   "source": [
    "print(\"\\n \\n Data Frame\")\n",
    "print(df['target90'].value_counts())\n",
    "\n",
    "from sklearn.utils import resample \n",
    "df_majority = df[df.target90==0]\n",
    "df_minority = df[df.target90==1]\n",
    "df_majority_balanced = resample(df_majority, \n",
    "                                n_samples=len(df_minority), \n",
    "                                replace=False, random_state=0) \n",
    "df_balanced = pd.concat([df_majority_balanced, \n",
    "                                  df_minority])\n",
    "print(\"\\n \\n Cross Validation Data Frame After Balancing\")\n",
    "print(df_balanced['target90'].value_counts())"
   ]
  },
  {
   "cell_type": "code",
   "execution_count": 139,
   "metadata": {
    "slideshow": {
     "slide_type": "subslide"
    }
   },
   "outputs": [
    {
     "name": "stdout",
     "output_type": "stream",
     "text": [
      "\n",
      " \n",
      " Training Data Frame\n",
      "1    4840\n",
      "0    4840\n",
      "Name: target90, dtype: int64\n",
      "\n",
      " \n",
      " Testing Data Frame\n",
      "1    1210\n",
      "0    1210\n",
      "Name: target90, dtype: int64\n"
     ]
    }
   ],
   "source": [
    "X = df_balanced.drop('target90', axis = 1)\n",
    "Y = df_balanced['target90']\n",
    "\n",
    "from sklearn.model_selection import train_test_split\n",
    "X_train, X_test, Y_train, Y_test = train_test_split(X, Y, stratify=Y,\n",
    "                                                    test_size=0.20, random_state=0)\n",
    "\n",
    "print(\"\\n \\n Training Data Frame\")\n",
    "print(Y_train.value_counts()) \n",
    "print(\"\\n \\n Testing Data Frame\")\n",
    "print(Y_test.value_counts())\n",
    "\n",
    "report = pd.DataFrame(columns=['Model','Mean Acc. Training','Standard Deviation','Acc. Test'])\n",
    "\n",
    "# Cross validation\n",
    "cross_validation_number_of_folds = 4\n",
    "from sklearn.metrics import accuracy_score"
   ]
  },
  {
   "cell_type": "markdown",
   "metadata": {
    "slideshow": {
     "slide_type": "subslide"
    }
   },
   "source": [
    "## Logistic Regression"
   ]
  },
  {
   "cell_type": "code",
   "execution_count": 140,
   "metadata": {
    "slideshow": {
     "slide_type": "fragment"
    }
   },
   "outputs": [
    {
     "name": "stdout",
     "output_type": "stream",
     "text": [
      "\n",
      " \n",
      "  \n",
      " Logistic Regression  \n",
      "\n",
      "Accuracies =  [0.55743802 0.57644628 0.5785124  0.59008264]\n",
      "Mean =  0.5756198347107437\n",
      "SD =  0.011713254366163937\n",
      "Model                 Logistic Regression\n",
      "Mean Acc. Training                0.57562\n",
      "Standard Deviation              0.0117133\n",
      "Acc. Test                        0.573967\n",
      "Name: 0, dtype: object\n"
     ]
    }
   ],
   "source": [
    "from sklearn.linear_model import LogisticRegression\n",
    "lrmodel = LogisticRegression(solver = 'lbfgs')\n",
    "from sklearn.model_selection import cross_val_score\n",
    "accuracies = cross_val_score(lrmodel, X_train, Y_train, scoring='accuracy', cv=cross_validation_number_of_folds)\n",
    "print(\"\\n \\n  \\n Logistic Regression  \\n\")\n",
    "print(\"Accuracies = \", accuracies)\n",
    "print(\"Mean = \", accuracies.mean())\n",
    "print(\"SD = \", accuracies.std())\n",
    "lrmodel.fit(X_train, Y_train)\n",
    "Y_test_pred = lrmodel.predict(X_test)\n",
    "accte = accuracy_score(Y_test, Y_test_pred)\n",
    "report.loc[len(report)] = ['Logistic Regression', accuracies.mean(), accuracies.std(), accte]\n",
    "print(report.loc[len(report)-1])"
   ]
  },
  {
   "cell_type": "markdown",
   "metadata": {
    "slideshow": {
     "slide_type": "subslide"
    }
   },
   "source": [
    "## Naive Bayes"
   ]
  },
  {
   "cell_type": "code",
   "execution_count": 141,
   "metadata": {
    "slideshow": {
     "slide_type": "fragment"
    }
   },
   "outputs": [
    {
     "name": "stdout",
     "output_type": "stream",
     "text": [
      "\n",
      " \n",
      "  \n",
      "Naive Bayes  \n",
      "\n",
      "Accuracies =  [0.5553719  0.55619835 0.56322314 0.57272727]\n",
      "Model                 Naive Bayes\n",
      "Mean Acc. Training        0.56188\n",
      "Standard Deviation     0.00696606\n",
      "Acc. Test                0.560744\n",
      "Name: 1, dtype: object\n"
     ]
    }
   ],
   "source": [
    "from sklearn.naive_bayes import GaussianNB\n",
    "nbmodel = GaussianNB()\n",
    "from sklearn.model_selection import cross_val_score\n",
    "accuracies = cross_val_score(nbmodel, X_train, Y_train, scoring='accuracy', cv=cross_validation_number_of_folds)\n",
    "print(\"\\n \\n  \\nNaive Bayes  \\n\")\n",
    "print(\"Accuracies = \", accuracies)\n",
    "nbmodel.fit(X_train, Y_train)\n",
    "Y_test_pred = nbmodel.predict(X_test)\n",
    "accte = accuracy_score(Y_test, Y_test_pred)\n",
    "report.loc[len(report)] = ['Naive Bayes', accuracies.mean(), accuracies.std(), accte]\n",
    "print(report.loc[len(report)-1])"
   ]
  },
  {
   "cell_type": "markdown",
   "metadata": {
    "slideshow": {
     "slide_type": "subslide"
    }
   },
   "source": [
    "## Random Forest"
   ]
  },
  {
   "cell_type": "code",
   "execution_count": 142,
   "metadata": {
    "slideshow": {
     "slide_type": "fragment"
    }
   },
   "outputs": [
    {
     "name": "stdout",
     "output_type": "stream",
     "text": [
      "\n",
      " \n",
      " \n",
      " Random Forest \n",
      "\n",
      "Best parameters:  {'max_depth': 9.0, 'n_estimators': 100}\n",
      "Model                 Random Forest\n",
      "Mean Acc. Training         0.571384\n",
      "Standard Deviation       0.00658164\n",
      "Acc. Test                  0.570248\n",
      "Name: 2, dtype: object\n"
     ]
    }
   ],
   "source": [
    "from sklearn.ensemble import RandomForestClassifier\n",
    "rfmodel = RandomForestClassifier(random_state=0)\n",
    "from sklearn.model_selection import GridSearchCV\n",
    "param_grid = {\n",
    "    'max_depth': [4., 5., 6., 7., 8., 9., 10., 11., 12.],\n",
    "    'n_estimators': [100]\n",
    "}\n",
    "CV_rfmodel = GridSearchCV(estimator=rfmodel, param_grid=param_grid, cv=cross_validation_number_of_folds)\n",
    "CV_rfmodel.fit(X_train, Y_train)\n",
    "print(\"\\n \\n \\n Random Forest \\n\")\n",
    "print(\"Best parameters: \", CV_rfmodel.best_params_)\n",
    "# Apply the best parameters\n",
    "rfmodel = rfmodel.set_params(**CV_rfmodel.best_params_)\n",
    "rfmodel.fit(X_train, Y_train)\n",
    "Y_test_pred = rfmodel.predict(X_test)\n",
    "accte = accuracy_score(Y_test, Y_test_pred)\n",
    "report.loc[len(report)] = ['Random Forest',\n",
    "                          CV_rfmodel.cv_results_['mean_test_score'][CV_rfmodel.best_index_],\n",
    "                          CV_rfmodel.cv_results_['std_test_score'][CV_rfmodel.best_index_], accte]\n",
    "print(report.loc[len(report)-1])"
   ]
  },
  {
   "cell_type": "code",
   "execution_count": 143,
   "metadata": {
    "slideshow": {
     "slide_type": "subslide"
    }
   },
   "outputs": [
    {
     "data": {
      "image/png": "[encoded data removed]",
      "text/plain": [
       "<Figure size 432x288 with 1 Axes>"
      ]
     },
     "metadata": {},
     "output_type": "display_data"
    }
   ],
   "source": [
    "plt.plot(range(int(param_grid['max_depth'][0]), int(param_grid['max_depth'][-1] + 1)), CV_rfmodel.cv_results_['mean_test_score'])\n",
    "plt.xlim(int(param_grid['max_depth'][0]), int(param_grid['max_depth'][-1])-1)\n",
    "plt.xticks(range(int(param_grid['max_depth'][0]), int(param_grid['max_depth'][-1])))\n",
    "plt.xlabel('Max Depth (n_estimators const. at 100)')\n",
    "plt.ylabel('Accuracy')\n",
    "plt.title('Random Forest: Comparison of Accuracies (n_estimators const. at 100)')\n",
    "plt.show()"
   ]
  },
  {
   "cell_type": "markdown",
   "metadata": {
    "slideshow": {
     "slide_type": "subslide"
    }
   },
   "source": [
    "## Gradient Boosting Classifier"
   ]
  },
  {
   "cell_type": "code",
   "execution_count": 144,
   "metadata": {
    "slideshow": {
     "slide_type": "subslide"
    }
   },
   "outputs": [
    {
     "name": "stdout",
     "output_type": "stream",
     "text": [
      "\n",
      " \n",
      " \n",
      " Gradient Boosting Classifier  \n",
      "\n",
      "{'learning_rate': 0.2, 'max_depth': 2.0, 'n_estimators': 100, 'subsample': 0.8}\n"
     ]
    }
   ],
   "source": [
    "from sklearn.ensemble import GradientBoostingClassifier\n",
    "gbmodel = GradientBoostingClassifier(random_state=0)\n",
    "from sklearn.model_selection import GridSearchCV\n",
    "param_grid = {\n",
    "    'max_depth': [2., 3., 4., 5.],\n",
    "    'subsample': [0.8],\n",
    "    'n_estimators': [100],\n",
    "    'learning_rate': [0.2]\n",
    "}\n",
    "CV_gbmodel = GridSearchCV(estimator=gbmodel, param_grid=param_grid, cv=cross_validation_number_of_folds)\n",
    "CV_gbmodel.fit(X_train, Y_train)\n",
    "print(\"\\n \\n \\n Gradient Boosting Classifier  \\n\")\n",
    "print(CV_gbmodel.best_params_)"
   ]
  },
  {
   "cell_type": "code",
   "execution_count": 145,
   "metadata": {},
   "outputs": [
    {
     "name": "stdout",
     "output_type": "stream",
     "text": [
      "Model                 Gradient Boosting (grid)\n",
      "Mean Acc. Training                    0.569421\n",
      "Standard Deviation                   0.0105554\n",
      "Acc. Test                             0.578512\n",
      "Name: 3, dtype: object\n",
      "[0.57035124 0.5697314  0.57086777 0.56942149 0.57066116 0.5713843\n",
      " 0.57035124 0.56983471 0.56322314]\n"
     ]
    }
   ],
   "source": [
    "gbmodel = gbmodel.set_params(**CV_gbmodel.best_params_)\n",
    "gbmodel.fit(X_train, Y_train)\n",
    "Y_test_pred = gbmodel.predict(X_test)\n",
    "accte = accuracy_score(Y_test, Y_test_pred)\n",
    "report.loc[len(report)] = ['Gradient Boosting (grid)',\n",
    "                          CV_gbmodel.cv_results_['mean_test_score'][CV_gbmodel.best_index_],\n",
    "                          CV_gbmodel.cv_results_['std_test_score'][CV_gbmodel.best_index_], accte]\n",
    "print(report.loc[len(report)-1])\n",
    "\n",
    "print(CV_rfmodel.cv_results_['mean_test_score'])"
   ]
  },
  {
   "cell_type": "code",
   "execution_count": 146,
   "metadata": {},
   "outputs": [
    {
     "data": {
      "image/png": "[encoded data removed]",
      "text/plain": [
       "<Figure size 432x288 with 1 Axes>"
      ]
     },
     "metadata": {},
     "output_type": "display_data"
    }
   ],
   "source": [
    "plt.plot(range(int(param_grid['max_depth'][0]), int(param_grid['max_depth'][-1] + 1)), CV_gbmodel.cv_results_['mean_test_score'])\n",
    "plt.xlim(int(param_grid['max_depth'][0]), int(param_grid['max_depth'][-1])-1)\n",
    "plt.xticks(range(int(param_grid['max_depth'][0]), int(param_grid['max_depth'][-1])))\n",
    "plt.xlabel('Max Depth (subsample=0.8, n_estimators=100, learn_rate=0.2)')\n",
    "plt.ylabel('Accuracy')\n",
    "plt.title('Gradient Boosting: Comparison of Accuracies')\n",
    "plt.show()"
   ]
  },
  {
   "cell_type": "markdown",
   "metadata": {
    "slideshow": {
     "slide_type": "subslide"
    }
   },
   "source": [
    "## Neural Network"
   ]
  },
  {
   "cell_type": "code",
   "execution_count": 147,
   "metadata": {
    "slideshow": {
     "slide_type": "fragment"
    }
   },
   "outputs": [
    {
     "name": "stdout",
     "output_type": "stream",
     "text": [
      "Fitting 4 folds for each of 96 candidates, totalling 384 fits\n"
     ]
    },
    {
     "name": "stderr",
     "output_type": "stream",
     "text": [
      "[Parallel(n_jobs=-1)]: Using backend LokyBackend with 4 concurrent workers.\n",
      "[Parallel(n_jobs=-1)]: Done  33 tasks      | elapsed:    5.0s\n",
      "[Parallel(n_jobs=-1)]: Done 154 tasks      | elapsed:   13.4s\n",
      "[Parallel(n_jobs=-1)]: Done 357 tasks      | elapsed:   40.7s\n"
     ]
    },
    {
     "name": "stdout",
     "output_type": "stream",
     "text": [
      "\n",
      " \n",
      " \n",
      " Neural Network Classifier  \n",
      "\n",
      "Best parameters:  {'activation': 'tanh', 'alpha': 13, 'hidden_layer_sizes': 2}\n"
     ]
    },
    {
     "name": "stderr",
     "output_type": "stream",
     "text": [
      "[Parallel(n_jobs=-1)]: Done 384 out of 384 | elapsed:   45.9s finished\n"
     ]
    }
   ],
   "source": [
    "from sklearn.neural_network import MLPClassifier\n",
    "nnetmodel = MLPClassifier(solver='lbfgs', hidden_layer_sizes=(10,), random_state=0)\n",
    "from sklearn.model_selection import GridSearchCV\n",
    "param_grid ={\n",
    "        'hidden_layer_sizes': np.arange(1, 5),\n",
    "        'alpha':  np.arange(10, 16),\n",
    "        'activation': ['identity', 'logistic', 'tanh', 'relu']\n",
    "}\n",
    "CV_nnetmodel = GridSearchCV(estimator=nnetmodel, param_grid=param_grid, n_jobs=-1, verbose=2, cv=cross_validation_number_of_folds)\n",
    "CV_nnetmodel.fit(X_train, Y_train)\n",
    "print(\"\\n \\n \\n Neural Network Classifier  \\n\")\n",
    "print(\"Best parameters: \", CV_nnetmodel.best_params_)"
   ]
  },
  {
   "cell_type": "code",
   "execution_count": 148,
   "metadata": {},
   "outputs": [
    {
     "name": "stdout",
     "output_type": "stream",
     "text": [
      "Model                 Neural Network\n",
      "Mean Acc. Training          0.578202\n",
      "Standard Deviation         0.0130423\n",
      "Acc. Test                    0.57562\n",
      "Name: 4, dtype: object\n"
     ]
    }
   ],
   "source": [
    "nnetmodel = nnetmodel.set_params(**CV_nnetmodel.best_params_)\n",
    "nnetmodel.fit(X_train, Y_train)\n",
    "accuracies = cross_val_score(nnetmodel, X_train, Y_train, scoring='accuracy', cv=cross_validation_number_of_folds)\n",
    "Y_test_pred = nnetmodel.predict(X_test)\n",
    "acctest = accuracy_score(Y_test, Y_test_pred)\n",
    "report.loc[len(report)] = ['Neural Network', accuracies.mean(), accuracies.std(), acctest]\n",
    "print(report.loc[len(report)-1])"
   ]
  },
  {
   "cell_type": "markdown",
   "metadata": {},
   "source": [
    "## Final Report"
   ]
  },
  {
   "cell_type": "code",
   "execution_count": 149,
   "metadata": {},
   "outputs": [
    {
     "name": "stdout",
     "output_type": "stream",
     "text": [
      "                      Model  Mean Acc. Training  Standard Deviation  Acc. Test\n",
      "0       Logistic Regression            0.575620            0.011713   0.573967\n",
      "1               Naive Bayes            0.561880            0.006966   0.560744\n",
      "2             Random Forest            0.571384            0.006582   0.570248\n",
      "3  Gradient Boosting (grid)            0.569421            0.010555   0.578512\n",
      "4            Neural Network            0.578202            0.013042   0.575620\n"
     ]
    }
   ],
   "source": [
    "print(report)"
   ]
  },
  {
   "cell_type": "markdown",
   "metadata": {},
   "source": [
    "##  Ensembles"
   ]
  },
  {
   "cell_type": "markdown",
   "metadata": {},
   "source": [
    "### Voting Ensembles"
   ]
  },
  {
   "cell_type": "code",
   "execution_count": 150,
   "metadata": {},
   "outputs": [
    {
     "name": "stdout",
     "output_type": "stream",
     "text": [
      "Model                 Ensemble (equal, hard)\n",
      "Mean Acc. Training                  0.578306\n",
      "Standard Deviation                   0.01316\n",
      "Acc. Test                            0.57686\n",
      "Name: 5, dtype: object\n"
     ]
    }
   ],
   "source": [
    "from mlxtend.classifier import EnsembleVoteClassifier\n",
    "ens1model = EnsembleVoteClassifier(clfs=[lrmodel, nnetmodel, gbmodel], weights=[1,1,1])\n",
    "accuracies = cross_val_score(ens1model, X_train, Y_train, scoring='accuracy', cv=cross_validation_number_of_folds)\n",
    "ens1model.fit(X_train, Y_train)\n",
    "Y_test_pred = ens1model.predict(X_test)\n",
    "accte = accuracy_score(Y_test, Y_test_pred)\n",
    "report.loc[len(report)] = ['Ensemble (equal, hard)', accuracies.mean(), accuracies.std(), accte]\n",
    "print(report.loc[len(report)-1])"
   ]
  },
  {
   "cell_type": "code",
   "execution_count": 151,
   "metadata": {},
   "outputs": [
    {
     "name": "stdout",
     "output_type": "stream",
     "text": [
      "Model                 Ensemble (equal, soft)\n",
      "Mean Acc. Training                   0.57469\n",
      "Standard Deviation                 0.0137436\n",
      "Acc. Test                           0.579752\n",
      "Name: 6, dtype: object\n"
     ]
    }
   ],
   "source": [
    "from mlxtend.classifier import EnsembleVoteClassifier\n",
    "ens1model = EnsembleVoteClassifier(clfs=[lrmodel, nnetmodel, gbmodel], weights=[1,1,1], voting='soft')\n",
    "accuracies = cross_val_score(ens1model, X_train, Y_train, scoring='accuracy', cv=cross_validation_number_of_folds)\n",
    "ens1model.fit(X_train, Y_train)\n",
    "Y_test_pred = ens1model.predict(X_test)\n",
    "accte = accuracy_score(Y_test, Y_test_pred)\n",
    "report.loc[len(report)] = ['Ensemble (equal, soft)', accuracies.mean(), accuracies.std(), accte]\n",
    "print(report.loc[len(report)-1])"
   ]
  },
  {
   "cell_type": "code",
   "execution_count": 152,
   "metadata": {},
   "outputs": [
    {
     "name": "stdout",
     "output_type": "stream",
     "text": [
      "Comparison with Ensemble (weighting):\n",
      "Model                 Ens. (weighted, hard)\n",
      "Mean Acc. Training                 0.577583\n",
      "Standard Deviation                0.0134421\n",
      "Acc. Test                           0.57562\n",
      "Name: 7, dtype: object\n"
     ]
    }
   ],
   "source": [
    "print('Comparison with Ensemble (weighting):')\n",
    "ens2model = EnsembleVoteClassifier(clfs=[lrmodel, nnetmodel, gbmodel], weights=[1,2,1])\n",
    "accuracies = cross_val_score(ens2model, X_train, Y_train, scoring='accuracy', cv=cross_validation_number_of_folds)\n",
    "ens2model.fit(X_train, Y_train)\n",
    "Y_test_pred = ens2model.predict(X_test)\n",
    "accte = accuracy_score(Y_test, Y_test_pred)\n",
    "report.loc[len(report)] = ['Ens. (weighted, hard)', accuracies.mean(), accuracies.std(), accte]\n",
    "print(report.loc[len(report)-1])"
   ]
  },
  {
   "cell_type": "code",
   "execution_count": 153,
   "metadata": {},
   "outputs": [
    {
     "name": "stdout",
     "output_type": "stream",
     "text": [
      "Comparison with Ensemble (Soft Voting):\n",
      "Model                 Ens. (weighted, soft)\n",
      "Mean Acc. Training                 0.573657\n",
      "Standard Deviation                0.0124564\n",
      "Acc. Test                          0.579339\n",
      "Name: 8, dtype: object\n"
     ]
    }
   ],
   "source": [
    "print('Comparison with Ensemble (Soft Voting):')\n",
    "ens3model = EnsembleVoteClassifier(clfs=[lrmodel, nnetmodel, gbmodel], weights=[1,1,2], voting='soft')\n",
    "accuracies = cross_val_score(ens3model, X_train, Y_train, scoring='accuracy', cv=cross_validation_number_of_folds)\n",
    "ens3model.fit(X_train, Y_train)\n",
    "Y_test_pred = ens3model.predict(X_test)\n",
    "accte = accuracy_score(Y_test, Y_test_pred)\n",
    "report.loc[len(report)] = ['Ens. (weighted, soft)', accuracies.mean(), accuracies.std(), accte]\n",
    "print(report.loc[len(report)-1])"
   ]
  },
  {
   "cell_type": "markdown",
   "metadata": {},
   "source": [
    "### Stacking Ensemble"
   ]
  },
  {
   "cell_type": "code",
   "execution_count": 154,
   "metadata": {},
   "outputs": [
    {
     "name": "stdout",
     "output_type": "stream",
     "text": [
      "Comparison with Stacking based on Logistic Regression:\n"
     ]
    },
    {
     "name": "stderr",
     "output_type": "stream",
     "text": [
      "/home/janspoerer/anaconda3/lib/python3.6/site-packages/sklearn/linear_model/logistic.py:433: FutureWarning: Default solver will be changed to 'lbfgs' in 0.22. Specify a solver to silence this warning.\n",
      "  FutureWarning)\n",
      "/home/janspoerer/anaconda3/lib/python3.6/site-packages/sklearn/linear_model/logistic.py:433: FutureWarning: Default solver will be changed to 'lbfgs' in 0.22. Specify a solver to silence this warning.\n",
      "  FutureWarning)\n",
      "/home/janspoerer/anaconda3/lib/python3.6/site-packages/sklearn/linear_model/logistic.py:433: FutureWarning: Default solver will be changed to 'lbfgs' in 0.22. Specify a solver to silence this warning.\n",
      "  FutureWarning)\n",
      "/home/janspoerer/anaconda3/lib/python3.6/site-packages/sklearn/linear_model/logistic.py:433: FutureWarning: Default solver will be changed to 'lbfgs' in 0.22. Specify a solver to silence this warning.\n",
      "  FutureWarning)\n"
     ]
    },
    {
     "name": "stdout",
     "output_type": "stream",
     "text": [
      "Model                 Stacking Ensemble\n",
      "Mean Acc. Training             0.567975\n",
      "Standard Deviation            0.0134552\n",
      "Acc. Test                      0.577686\n",
      "Name: 9, dtype: object\n"
     ]
    },
    {
     "name": "stderr",
     "output_type": "stream",
     "text": [
      "/home/janspoerer/anaconda3/lib/python3.6/site-packages/sklearn/linear_model/logistic.py:433: FutureWarning: Default solver will be changed to 'lbfgs' in 0.22. Specify a solver to silence this warning.\n",
      "  FutureWarning)\n"
     ]
    }
   ],
   "source": [
    "from sklearn.linear_model import LogisticRegression\n",
    "lr_ensemble = LogisticRegression()\n",
    "\n",
    "print('Comparison with Stacking based on Logistic Regression:')\n",
    "from mlxtend.classifier import StackingClassifier\n",
    "stens1model = StackingClassifier(classifiers=[lrmodel, nnetmodel, gbmodel],\n",
    "                                 use_probas=True,\n",
    "                                 average_probas=False,\n",
    "                                 meta_classifier=lr_ensemble)\n",
    "accuracies = cross_val_score(stens1model, X_train, Y_train, scoring='accuracy', cv=cross_validation_number_of_folds)\n",
    "stens1model.fit(X_train, Y_train)\n",
    "Y_test_pred = stens1model.predict(X_test)\n",
    "accte = accuracy_score(Y_test, Y_test_pred)\n",
    "report.loc[len(report)] = ['Stacking Ensemble', accuracies.mean(), accuracies.std(), accte]\n",
    "print(report.loc[len(report)-1])"
   ]
  },
  {
   "cell_type": "code",
   "execution_count": 155,
   "metadata": {},
   "outputs": [
    {
     "name": "stdout",
     "output_type": "stream",
     "text": [
      "                      Model  Mean Acc. Training  Standard Deviation  Acc. Test\n",
      "0       Logistic Regression            0.575620            0.011713   0.573967\n",
      "1               Naive Bayes            0.561880            0.006966   0.560744\n",
      "2             Random Forest            0.571384            0.006582   0.570248\n",
      "3  Gradient Boosting (grid)            0.569421            0.010555   0.578512\n",
      "4            Neural Network            0.578202            0.013042   0.575620\n",
      "5    Ensemble (equal, hard)            0.578306            0.013160   0.576860\n",
      "6    Ensemble (equal, soft)            0.574690            0.013744   0.579752\n",
      "7     Ens. (weighted, hard)            0.577583            0.013442   0.575620\n",
      "8     Ens. (weighted, soft)            0.573657            0.012456   0.579339\n",
      "9         Stacking Ensemble            0.567975            0.013455   0.577686\n"
     ]
    }
   ],
   "source": [
    "print(report)"
   ]
  },
  {
   "cell_type": "markdown",
   "metadata": {
    "slideshow": {
     "slide_type": "slide"
    }
   },
   "source": [
    "## Conclusion"
   ]
  },
  {
   "cell_type": "markdown",
   "metadata": {
    "slideshow": {
     "slide_type": "subslide"
    }
   },
   "source": [
    "Is the method feasible in practice?\n",
    "* Yes, the media dealer aggregated over 30,000 rows of data about their customers. We therefore conclude that the marketing department could implement a data analytics model and use it on a regular basis for this specific purpose. The computing power needed is limited and the person that performs the analysis could work with a script that runs all steps from preprocessing to reporting. A qualified data analyst may be necessary to deal with changes in the data input and to refine the model (e.g., if new interesting variables are added to the ERP system). Scalability should not be a problem. In addition to implementing a predictive system, there should also be an evalution process in place that makes sure that the results are measured and compared to actual outcomes. Also, one should measure if doing the prediction actually pays of enough (cost for making the predictions vs. gains from better decisions).\n",
    "* It would be interesting to know what the \"Model\" variable measures. We dropped this variable because we could not check the value for plausibility."
   ]
  },
  {
   "cell_type": "markdown",
   "metadata": {
    "slideshow": {
     "slide_type": "subslide"
    }
   },
   "source": [
    "One deciding factor could be the return rate of the customer. Customers with high return rates should not be actively targeted because we believe that their contribution margin is lower than the contribution margin of customers that do not return their orders."
   ]
  },
  {
   "cell_type": "code",
   "execution_count": null,
   "metadata": {},
   "outputs": [],
   "source": []
  }
 ],
 "metadata": {
  "celltoolbar": "Slideshow",
  "kernelspec": {
   "display_name": "Python 3",
   "language": "python",
   "name": "python3"
  },
  "language_info": {
   "codemirror_mode": {
    "name": "ipython",
    "version": 3
   },
   "file_extension": ".py",
   "mimetype": "text/x-python",
   "name": "python",
   "nbconvert_exporter": "python",
   "pygments_lexer": "ipython3",
   "version": "3.6.6"
  }
 },
 "nbformat": 4,
 "nbformat_minor": 2
}

{
 "cells": [
  {
   "cell_type": "code",
   "execution_count": 43,
   "metadata": {},
   "outputs": [],
   "source": [
    "import numpy as np # linear algebra\n",
    "import pandas as pd # data processing, CSV file I/O (e.g. pd.read_csv)\n",
    "\n",
    "import matplotlib.pyplot as plt\n",
    "import seaborn as sns\n",
    "%matplotlib inline"
   ]
  },
  {
   "cell_type": "code",
   "execution_count": 44,
   "metadata": {},
   "outputs": [
    {
     "name": "stderr",
     "output_type": "stream",
     "text": [
      "C:\\Users\\prisc\\Anaconda3\\lib\\site-packages\\IPython\\core\\interactiveshell.py:2785: DtypeWarning: Columns (11) have mixed types. Specify dtype option on import or set low_memory=False.\n",
      "  interactivity=interactivity, compiler=compiler, result=result)\n"
     ]
    }
   ],
   "source": [
    "df = pd.read_csv(\"Intelligent_Couponing.csv\")"
   ]
  },
  {
   "cell_type": "code",
   "execution_count": null,
   "metadata": {},
   "outputs": [],
   "source": [
    "#set size\n",
    "plt.figure(figsize=(12,8))\n",
    "#plot\n",
    "plt.subplot(5,2,1)\n",
    "sns.distplot(df['w1'], rug = True, hist = False)\n",
    "plt.subplot(5,2,2)\n",
    "sns.distplot(df['w2'], rug = True, hist = False)\n",
    "plt.subplot(5,2,3)\n",
    "sns.distplot(df['w3'], rug = True, hist = False)\n",
    "plt.subplot(5,2,4)\n",
    "sns.distplot(df['w4'], rug = True, hist = False)\n",
    "plt.subplot(5,2,5)\n",
    "sns.distplot(df['w5'], rug = True, hist = False)\n",
    "plt.subplot(5,2,6)\n",
    "sns.distplot(df['w6'], rug = True, hist = False)\n",
    "plt.subplot(5,2,7)\n",
    "sns.distplot(df['w7'], rug = True, hist = False)\n",
    "plt.subplot(5,2,8)\n",
    "sns.distplot(df['w8'], rug = True, hist = False)\n",
    "plt.subplot(5,2,9)\n",
    "sns.distplot(df['w9'], rug = True, hist = False)\n",
    "plt.subplot(5,2,10)\n",
    "sns.distplot(df['w10'], rug = True, hist = False)"
   ]
  },
  {
   "cell_type": "code",
   "execution_count": null,
   "metadata": {},
   "outputs": [],
   "source": []
  }
 ],
 "metadata": {
  "kernelspec": {
   "display_name": "Python 3",
   "language": "python",
   "name": "python3"
  },
  "language_info": {
   "codemirror_mode": {
    "name": "ipython",
    "version": 3
   },
   "file_extension": ".py",
   "mimetype": "text/x-python",
   "name": "python",
   "nbconvert_exporter": "python",
   "pygments_lexer": "ipython3",
   "version": "3.6.5"
  }
 },
 "nbformat": 4,
 "nbformat_minor": 2
}
